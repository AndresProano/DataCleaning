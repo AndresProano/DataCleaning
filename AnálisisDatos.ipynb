{
 "cells": [
  {
   "cell_type": "code",
   "execution_count": 76,
   "id": "951f6db8-9910-4310-a05a-feeb4467f6a0",
   "metadata": {},
   "outputs": [],
   "source": [
    "import pandas as pd\n",
    "import numpy as np\n",
    "import matplotlib.pyplot as plt\n",
    "import seaborn as sns\n",
    "from geopy.distance import geodesic\n",
    "from sklearn.impute import SimpleImputer\n",
    "from sklearn.preprocessing import OneHotEncoder\n",
    "from sklearn.linear_model import LinearRegression\n",
    "from sklearn.metrics import mean_squared_error, r2_score, mean_absolute_error, mean_squared_log_error"
   ]
  },
  {
   "cell_type": "code",
   "execution_count": 2,
   "id": "03667226-5755-4aa8-867b-15fb6ab8d771",
   "metadata": {},
   "outputs": [],
   "source": [
    "data = pd.read_csv('/Users/andres/Desktop/datos/nyc_taxi_hw .csv')"
   ]
  },
  {
   "cell_type": "code",
   "execution_count": 3,
   "id": "45acb9c7-1310-4bb8-ada1-6afa076e1c2d",
   "metadata": {},
   "outputs": [
    {
     "data": {
      "text/html": [
       "<div>\n",
       "<style scoped>\n",
       "    .dataframe tbody tr th:only-of-type {\n",
       "        vertical-align: middle;\n",
       "    }\n",
       "\n",
       "    .dataframe tbody tr th {\n",
       "        vertical-align: top;\n",
       "    }\n",
       "\n",
       "    .dataframe thead th {\n",
       "        text-align: right;\n",
       "    }\n",
       "</style>\n",
       "<table border=\"1\" class=\"dataframe\">\n",
       "  <thead>\n",
       "    <tr style=\"text-align: right;\">\n",
       "      <th></th>\n",
       "      <th>Unnamed: 0</th>\n",
       "      <th>key</th>\n",
       "      <th>fare_amount</th>\n",
       "      <th>pickup_datetime</th>\n",
       "      <th>pickup_longitude</th>\n",
       "      <th>pickup_latitude</th>\n",
       "      <th>dropoff_longitude</th>\n",
       "      <th>dropoff_latitude</th>\n",
       "      <th>passenger_count</th>\n",
       "    </tr>\n",
       "  </thead>\n",
       "  <tbody>\n",
       "    <tr>\n",
       "      <th>0</th>\n",
       "      <td>0</td>\n",
       "      <td>2009-06-15 17:26:21.0000001</td>\n",
       "      <td>4.5</td>\n",
       "      <td>2009-06-15 17:26:21 UTC</td>\n",
       "      <td>-73.844311</td>\n",
       "      <td>40.721319</td>\n",
       "      <td>-73.841610</td>\n",
       "      <td>40.712278</td>\n",
       "      <td>1</td>\n",
       "    </tr>\n",
       "    <tr>\n",
       "      <th>1</th>\n",
       "      <td>1</td>\n",
       "      <td>2010-01-05 16:52:16.0000002</td>\n",
       "      <td>16.9</td>\n",
       "      <td>2010-01-05 16:52:16 UTC</td>\n",
       "      <td>-74.016048</td>\n",
       "      <td>40.711303</td>\n",
       "      <td>-73.979268</td>\n",
       "      <td>40.782004</td>\n",
       "      <td>1</td>\n",
       "    </tr>\n",
       "    <tr>\n",
       "      <th>2</th>\n",
       "      <td>2</td>\n",
       "      <td>2011-08-18 00:35:00.00000049</td>\n",
       "      <td>5.7</td>\n",
       "      <td>2011-08-18 00:35:00 UTC</td>\n",
       "      <td>-73.982738</td>\n",
       "      <td>40.761270</td>\n",
       "      <td>-73.991242</td>\n",
       "      <td>40.750562</td>\n",
       "      <td>2</td>\n",
       "    </tr>\n",
       "    <tr>\n",
       "      <th>3</th>\n",
       "      <td>3</td>\n",
       "      <td>2012-04-21 04:30:42.0000001</td>\n",
       "      <td>7.7</td>\n",
       "      <td>2012-04-21 04:30:42 UTC</td>\n",
       "      <td>-73.987130</td>\n",
       "      <td>40.733143</td>\n",
       "      <td>-73.991567</td>\n",
       "      <td>40.758092</td>\n",
       "      <td>1</td>\n",
       "    </tr>\n",
       "    <tr>\n",
       "      <th>4</th>\n",
       "      <td>4</td>\n",
       "      <td>2010-03-09 07:51:00.000000135</td>\n",
       "      <td>5.3</td>\n",
       "      <td>2010-03-09 07:51:00 UTC</td>\n",
       "      <td>-73.968095</td>\n",
       "      <td>40.768008</td>\n",
       "      <td>-73.956655</td>\n",
       "      <td>40.783762</td>\n",
       "      <td>1</td>\n",
       "    </tr>\n",
       "  </tbody>\n",
       "</table>\n",
       "</div>"
      ],
      "text/plain": [
       "   Unnamed: 0                            key  fare_amount  \\\n",
       "0           0    2009-06-15 17:26:21.0000001          4.5   \n",
       "1           1    2010-01-05 16:52:16.0000002         16.9   \n",
       "2           2   2011-08-18 00:35:00.00000049          5.7   \n",
       "3           3    2012-04-21 04:30:42.0000001          7.7   \n",
       "4           4  2010-03-09 07:51:00.000000135          5.3   \n",
       "\n",
       "           pickup_datetime  pickup_longitude  pickup_latitude  \\\n",
       "0  2009-06-15 17:26:21 UTC        -73.844311        40.721319   \n",
       "1  2010-01-05 16:52:16 UTC        -74.016048        40.711303   \n",
       "2  2011-08-18 00:35:00 UTC        -73.982738        40.761270   \n",
       "3  2012-04-21 04:30:42 UTC        -73.987130        40.733143   \n",
       "4  2010-03-09 07:51:00 UTC        -73.968095        40.768008   \n",
       "\n",
       "   dropoff_longitude  dropoff_latitude  passenger_count  \n",
       "0         -73.841610         40.712278                1  \n",
       "1         -73.979268         40.782004                1  \n",
       "2         -73.991242         40.750562                2  \n",
       "3         -73.991567         40.758092                1  \n",
       "4         -73.956655         40.783762                1  "
      ]
     },
     "execution_count": 3,
     "metadata": {},
     "output_type": "execute_result"
    }
   ],
   "source": [
    "data.head()"
   ]
  },
  {
   "cell_type": "code",
   "execution_count": 4,
   "id": "0fbff594-1c16-42f5-9515-c6ab60f79bf7",
   "metadata": {},
   "outputs": [
    {
     "name": "stdout",
     "output_type": "stream",
     "text": [
      "<class 'pandas.core.frame.DataFrame'>\n",
      "RangeIndex: 100000 entries, 0 to 99999\n",
      "Data columns (total 9 columns):\n",
      " #   Column             Non-Null Count   Dtype  \n",
      "---  ------             --------------   -----  \n",
      " 0   Unnamed: 0         100000 non-null  int64  \n",
      " 1   key                100000 non-null  object \n",
      " 2   fare_amount        100000 non-null  float64\n",
      " 3   pickup_datetime    100000 non-null  object \n",
      " 4   pickup_longitude   100000 non-null  float64\n",
      " 5   pickup_latitude    100000 non-null  float64\n",
      " 6   dropoff_longitude  100000 non-null  float64\n",
      " 7   dropoff_latitude   100000 non-null  float64\n",
      " 8   passenger_count    100000 non-null  int64  \n",
      "dtypes: float64(5), int64(2), object(2)\n",
      "memory usage: 6.9+ MB\n"
     ]
    }
   ],
   "source": [
    "data.info()"
   ]
  },
  {
   "cell_type": "code",
   "execution_count": 5,
   "id": "b9af183d-ed8d-45b4-a91a-bf330ad64a16",
   "metadata": {},
   "outputs": [
    {
     "data": {
      "text/plain": [
       "Timestamp('2009-06-15 17:26:21.000000100')"
      ]
     },
     "execution_count": 5,
     "metadata": {},
     "output_type": "execute_result"
    }
   ],
   "source": [
    "data['key'] = pd.to_datetime(data['key'])\n",
    "data['key'].iloc[0]"
   ]
  },
  {
   "cell_type": "code",
   "execution_count": 6,
   "id": "0699c617-369e-43e0-a91d-49c06b351948",
   "metadata": {},
   "outputs": [],
   "source": [
    "data[\"hour\"] = data[\"key\"].dt.hour\n",
    "data[\"day_of_week\"] = data[\"key\"].dt.dayofweek\n",
    "data[\"month\"] = data[\"key\"].dt.month\n",
    "data[\"year\"] = data[\"key\"].dt.year"
   ]
  },
  {
   "cell_type": "code",
   "execution_count": 7,
   "id": "765a3ce6-d755-421d-ad54-5f091415260b",
   "metadata": {},
   "outputs": [
    {
     "name": "stdout",
     "output_type": "stream",
     "text": [
      "<class 'pandas.core.frame.DataFrame'>\n",
      "RangeIndex: 100000 entries, 0 to 99999\n",
      "Data columns (total 13 columns):\n",
      " #   Column             Non-Null Count   Dtype         \n",
      "---  ------             --------------   -----         \n",
      " 0   Unnamed: 0         100000 non-null  int64         \n",
      " 1   key                100000 non-null  datetime64[ns]\n",
      " 2   fare_amount        100000 non-null  float64       \n",
      " 3   pickup_datetime    100000 non-null  object        \n",
      " 4   pickup_longitude   100000 non-null  float64       \n",
      " 5   pickup_latitude    100000 non-null  float64       \n",
      " 6   dropoff_longitude  100000 non-null  float64       \n",
      " 7   dropoff_latitude   100000 non-null  float64       \n",
      " 8   passenger_count    100000 non-null  int64         \n",
      " 9   hour               100000 non-null  int32         \n",
      " 10  day_of_week        100000 non-null  int32         \n",
      " 11  month              100000 non-null  int32         \n",
      " 12  year               100000 non-null  int32         \n",
      "dtypes: datetime64[ns](1), float64(5), int32(4), int64(2), object(1)\n",
      "memory usage: 8.4+ MB\n"
     ]
    }
   ],
   "source": [
    "data.info()"
   ]
  },
  {
   "cell_type": "code",
   "execution_count": 8,
   "id": "b5c28a49-976e-4ad9-832e-edff614f6f9e",
   "metadata": {},
   "outputs": [
    {
     "data": {
      "text/plain": [
       "Timestamp('2009-06-15 17:26:21+0000', tz='UTC')"
      ]
     },
     "execution_count": 8,
     "metadata": {},
     "output_type": "execute_result"
    }
   ],
   "source": [
    "data['pickup_datetime'] = pd.to_datetime(data['pickup_datetime'])\n",
    "data['pickup_datetime'].iloc[0]"
   ]
  },
  {
   "cell_type": "code",
   "execution_count": 9,
   "id": "2468dbd5-e673-4622-a898-69211232b851",
   "metadata": {},
   "outputs": [],
   "source": [
    "data[\"hour\"] = data[\"pickup_datetime\"].dt.hour\n",
    "data[\"day_of_week\"] = data[\"pickup_datetime\"].dt.dayofweek\n",
    "data[\"month\"] = data[\"pickup_datetime\"].dt.month\n",
    "data[\"year\"] = data[\"pickup_datetime\"].dt.year"
   ]
  },
  {
   "cell_type": "code",
   "execution_count": 10,
   "id": "3e749940-2039-4b61-a8dc-90b3b08841a1",
   "metadata": {},
   "outputs": [
    {
     "name": "stdout",
     "output_type": "stream",
     "text": [
      "<class 'pandas.core.frame.DataFrame'>\n",
      "RangeIndex: 100000 entries, 0 to 99999\n",
      "Data columns (total 13 columns):\n",
      " #   Column             Non-Null Count   Dtype              \n",
      "---  ------             --------------   -----              \n",
      " 0   Unnamed: 0         100000 non-null  int64              \n",
      " 1   key                100000 non-null  datetime64[ns]     \n",
      " 2   fare_amount        100000 non-null  float64            \n",
      " 3   pickup_datetime    100000 non-null  datetime64[ns, UTC]\n",
      " 4   pickup_longitude   100000 non-null  float64            \n",
      " 5   pickup_latitude    100000 non-null  float64            \n",
      " 6   dropoff_longitude  100000 non-null  float64            \n",
      " 7   dropoff_latitude   100000 non-null  float64            \n",
      " 8   passenger_count    100000 non-null  int64              \n",
      " 9   hour               100000 non-null  int32              \n",
      " 10  day_of_week        100000 non-null  int32              \n",
      " 11  month              100000 non-null  int32              \n",
      " 12  year               100000 non-null  int32              \n",
      "dtypes: datetime64[ns, UTC](1), datetime64[ns](1), float64(5), int32(4), int64(2)\n",
      "memory usage: 8.4 MB\n"
     ]
    }
   ],
   "source": [
    "data.info()"
   ]
  },
  {
   "cell_type": "code",
   "execution_count": 11,
   "id": "0e1f8c93-c335-4944-a65d-1a52b00f1d38",
   "metadata": {},
   "outputs": [],
   "source": [
    "data.drop(['pickup_datetime'], axis=1, inplace=True)"
   ]
  },
  {
   "cell_type": "code",
   "execution_count": 12,
   "id": "331aa5b1-d152-4bc2-9048-1ff72c3b8836",
   "metadata": {},
   "outputs": [
    {
     "name": "stdout",
     "output_type": "stream",
     "text": [
      "<class 'pandas.core.frame.DataFrame'>\n",
      "RangeIndex: 100000 entries, 0 to 99999\n",
      "Data columns (total 12 columns):\n",
      " #   Column             Non-Null Count   Dtype         \n",
      "---  ------             --------------   -----         \n",
      " 0   Unnamed: 0         100000 non-null  int64         \n",
      " 1   key                100000 non-null  datetime64[ns]\n",
      " 2   fare_amount        100000 non-null  float64       \n",
      " 3   pickup_longitude   100000 non-null  float64       \n",
      " 4   pickup_latitude    100000 non-null  float64       \n",
      " 5   dropoff_longitude  100000 non-null  float64       \n",
      " 6   dropoff_latitude   100000 non-null  float64       \n",
      " 7   passenger_count    100000 non-null  int64         \n",
      " 8   hour               100000 non-null  int32         \n",
      " 9   day_of_week        100000 non-null  int32         \n",
      " 10  month              100000 non-null  int32         \n",
      " 11  year               100000 non-null  int32         \n",
      "dtypes: datetime64[ns](1), float64(5), int32(4), int64(2)\n",
      "memory usage: 7.6 MB\n"
     ]
    }
   ],
   "source": [
    "data.info()"
   ]
  },
  {
   "cell_type": "code",
   "execution_count": 13,
   "id": "75ea9ac6-5252-4335-9e3a-d77953a8e529",
   "metadata": {},
   "outputs": [],
   "source": [
    "data.drop(['Unnamed: 0'], axis=1, inplace=True)"
   ]
  },
  {
   "cell_type": "code",
   "execution_count": 14,
   "id": "c2b257e1-60f2-478e-8442-bbc1f18f8f00",
   "metadata": {},
   "outputs": [
    {
     "name": "stdout",
     "output_type": "stream",
     "text": [
      "<class 'pandas.core.frame.DataFrame'>\n",
      "RangeIndex: 100000 entries, 0 to 99999\n",
      "Data columns (total 11 columns):\n",
      " #   Column             Non-Null Count   Dtype         \n",
      "---  ------             --------------   -----         \n",
      " 0   key                100000 non-null  datetime64[ns]\n",
      " 1   fare_amount        100000 non-null  float64       \n",
      " 2   pickup_longitude   100000 non-null  float64       \n",
      " 3   pickup_latitude    100000 non-null  float64       \n",
      " 4   dropoff_longitude  100000 non-null  float64       \n",
      " 5   dropoff_latitude   100000 non-null  float64       \n",
      " 6   passenger_count    100000 non-null  int64         \n",
      " 7   hour               100000 non-null  int32         \n",
      " 8   day_of_week        100000 non-null  int32         \n",
      " 9   month              100000 non-null  int32         \n",
      " 10  year               100000 non-null  int32         \n",
      "dtypes: datetime64[ns](1), float64(5), int32(4), int64(1)\n",
      "memory usage: 6.9 MB\n"
     ]
    }
   ],
   "source": [
    "data.info()"
   ]
  },
  {
   "cell_type": "code",
   "execution_count": 15,
   "id": "a7c62b20-1abb-45c1-a7a7-8902d76bd646",
   "metadata": {},
   "outputs": [
    {
     "data": {
      "text/html": [
       "<div>\n",
       "<style scoped>\n",
       "    .dataframe tbody tr th:only-of-type {\n",
       "        vertical-align: middle;\n",
       "    }\n",
       "\n",
       "    .dataframe tbody tr th {\n",
       "        vertical-align: top;\n",
       "    }\n",
       "\n",
       "    .dataframe thead th {\n",
       "        text-align: right;\n",
       "    }\n",
       "</style>\n",
       "<table border=\"1\" class=\"dataframe\">\n",
       "  <thead>\n",
       "    <tr style=\"text-align: right;\">\n",
       "      <th></th>\n",
       "      <th>key</th>\n",
       "      <th>fare_amount</th>\n",
       "      <th>pickup_longitude</th>\n",
       "      <th>pickup_latitude</th>\n",
       "      <th>dropoff_longitude</th>\n",
       "      <th>dropoff_latitude</th>\n",
       "      <th>passenger_count</th>\n",
       "      <th>hour</th>\n",
       "      <th>day_of_week</th>\n",
       "      <th>month</th>\n",
       "      <th>year</th>\n",
       "    </tr>\n",
       "  </thead>\n",
       "  <tbody>\n",
       "    <tr>\n",
       "      <th>0</th>\n",
       "      <td>2009-06-15 17:26:21.000000100</td>\n",
       "      <td>4.5</td>\n",
       "      <td>-73.844311</td>\n",
       "      <td>40.721319</td>\n",
       "      <td>-73.841610</td>\n",
       "      <td>40.712278</td>\n",
       "      <td>1</td>\n",
       "      <td>17</td>\n",
       "      <td>0</td>\n",
       "      <td>6</td>\n",
       "      <td>2009</td>\n",
       "    </tr>\n",
       "    <tr>\n",
       "      <th>1</th>\n",
       "      <td>2010-01-05 16:52:16.000000200</td>\n",
       "      <td>16.9</td>\n",
       "      <td>-74.016048</td>\n",
       "      <td>40.711303</td>\n",
       "      <td>-73.979268</td>\n",
       "      <td>40.782004</td>\n",
       "      <td>1</td>\n",
       "      <td>16</td>\n",
       "      <td>1</td>\n",
       "      <td>1</td>\n",
       "      <td>2010</td>\n",
       "    </tr>\n",
       "    <tr>\n",
       "      <th>2</th>\n",
       "      <td>2011-08-18 00:35:00.000000490</td>\n",
       "      <td>5.7</td>\n",
       "      <td>-73.982738</td>\n",
       "      <td>40.761270</td>\n",
       "      <td>-73.991242</td>\n",
       "      <td>40.750562</td>\n",
       "      <td>2</td>\n",
       "      <td>0</td>\n",
       "      <td>3</td>\n",
       "      <td>8</td>\n",
       "      <td>2011</td>\n",
       "    </tr>\n",
       "    <tr>\n",
       "      <th>3</th>\n",
       "      <td>2012-04-21 04:30:42.000000100</td>\n",
       "      <td>7.7</td>\n",
       "      <td>-73.987130</td>\n",
       "      <td>40.733143</td>\n",
       "      <td>-73.991567</td>\n",
       "      <td>40.758092</td>\n",
       "      <td>1</td>\n",
       "      <td>4</td>\n",
       "      <td>5</td>\n",
       "      <td>4</td>\n",
       "      <td>2012</td>\n",
       "    </tr>\n",
       "    <tr>\n",
       "      <th>4</th>\n",
       "      <td>2010-03-09 07:51:00.000000135</td>\n",
       "      <td>5.3</td>\n",
       "      <td>-73.968095</td>\n",
       "      <td>40.768008</td>\n",
       "      <td>-73.956655</td>\n",
       "      <td>40.783762</td>\n",
       "      <td>1</td>\n",
       "      <td>7</td>\n",
       "      <td>1</td>\n",
       "      <td>3</td>\n",
       "      <td>2010</td>\n",
       "    </tr>\n",
       "  </tbody>\n",
       "</table>\n",
       "</div>"
      ],
      "text/plain": [
       "                            key  fare_amount  pickup_longitude  \\\n",
       "0 2009-06-15 17:26:21.000000100          4.5        -73.844311   \n",
       "1 2010-01-05 16:52:16.000000200         16.9        -74.016048   \n",
       "2 2011-08-18 00:35:00.000000490          5.7        -73.982738   \n",
       "3 2012-04-21 04:30:42.000000100          7.7        -73.987130   \n",
       "4 2010-03-09 07:51:00.000000135          5.3        -73.968095   \n",
       "\n",
       "   pickup_latitude  dropoff_longitude  dropoff_latitude  passenger_count  \\\n",
       "0        40.721319         -73.841610         40.712278                1   \n",
       "1        40.711303         -73.979268         40.782004                1   \n",
       "2        40.761270         -73.991242         40.750562                2   \n",
       "3        40.733143         -73.991567         40.758092                1   \n",
       "4        40.768008         -73.956655         40.783762                1   \n",
       "\n",
       "   hour  day_of_week  month  year  \n",
       "0    17            0      6  2009  \n",
       "1    16            1      1  2010  \n",
       "2     0            3      8  2011  \n",
       "3     4            5      4  2012  \n",
       "4     7            1      3  2010  "
      ]
     },
     "execution_count": 15,
     "metadata": {},
     "output_type": "execute_result"
    }
   ],
   "source": [
    "data.head()"
   ]
  },
  {
   "cell_type": "code",
   "execution_count": 16,
   "id": "1837e3fc-ce92-4bc6-ae1f-860da48746f9",
   "metadata": {},
   "outputs": [],
   "source": [
    "def get_time_of_day(hour):\n",
    "    if 5 <= hour < 12:\n",
    "        return 'Morning'\n",
    "    elif 12 <= hour < 17:\n",
    "        return 'Afternoon'\n",
    "    elif 17 <= hour < 21:\n",
    "        return 'Evening'\n",
    "    else:\n",
    "        return 'Night'\n",
    "\n",
    "data['time_of_day'] = data['hour'].apply(get_time_of_day)"
   ]
  },
  {
   "cell_type": "code",
   "execution_count": 17,
   "id": "8c1b6280-e6df-466b-9014-b77e5a7a8e9e",
   "metadata": {},
   "outputs": [
    {
     "data": {
      "text/html": [
       "<div>\n",
       "<style scoped>\n",
       "    .dataframe tbody tr th:only-of-type {\n",
       "        vertical-align: middle;\n",
       "    }\n",
       "\n",
       "    .dataframe tbody tr th {\n",
       "        vertical-align: top;\n",
       "    }\n",
       "\n",
       "    .dataframe thead th {\n",
       "        text-align: right;\n",
       "    }\n",
       "</style>\n",
       "<table border=\"1\" class=\"dataframe\">\n",
       "  <thead>\n",
       "    <tr style=\"text-align: right;\">\n",
       "      <th></th>\n",
       "      <th>key</th>\n",
       "      <th>fare_amount</th>\n",
       "      <th>pickup_longitude</th>\n",
       "      <th>pickup_latitude</th>\n",
       "      <th>dropoff_longitude</th>\n",
       "      <th>dropoff_latitude</th>\n",
       "      <th>passenger_count</th>\n",
       "      <th>hour</th>\n",
       "      <th>day_of_week</th>\n",
       "      <th>month</th>\n",
       "      <th>year</th>\n",
       "      <th>time_of_day</th>\n",
       "    </tr>\n",
       "  </thead>\n",
       "  <tbody>\n",
       "    <tr>\n",
       "      <th>0</th>\n",
       "      <td>2009-06-15 17:26:21.000000100</td>\n",
       "      <td>4.5</td>\n",
       "      <td>-73.844311</td>\n",
       "      <td>40.721319</td>\n",
       "      <td>-73.841610</td>\n",
       "      <td>40.712278</td>\n",
       "      <td>1</td>\n",
       "      <td>17</td>\n",
       "      <td>0</td>\n",
       "      <td>6</td>\n",
       "      <td>2009</td>\n",
       "      <td>Evening</td>\n",
       "    </tr>\n",
       "    <tr>\n",
       "      <th>1</th>\n",
       "      <td>2010-01-05 16:52:16.000000200</td>\n",
       "      <td>16.9</td>\n",
       "      <td>-74.016048</td>\n",
       "      <td>40.711303</td>\n",
       "      <td>-73.979268</td>\n",
       "      <td>40.782004</td>\n",
       "      <td>1</td>\n",
       "      <td>16</td>\n",
       "      <td>1</td>\n",
       "      <td>1</td>\n",
       "      <td>2010</td>\n",
       "      <td>Afternoon</td>\n",
       "    </tr>\n",
       "    <tr>\n",
       "      <th>2</th>\n",
       "      <td>2011-08-18 00:35:00.000000490</td>\n",
       "      <td>5.7</td>\n",
       "      <td>-73.982738</td>\n",
       "      <td>40.761270</td>\n",
       "      <td>-73.991242</td>\n",
       "      <td>40.750562</td>\n",
       "      <td>2</td>\n",
       "      <td>0</td>\n",
       "      <td>3</td>\n",
       "      <td>8</td>\n",
       "      <td>2011</td>\n",
       "      <td>Night</td>\n",
       "    </tr>\n",
       "    <tr>\n",
       "      <th>3</th>\n",
       "      <td>2012-04-21 04:30:42.000000100</td>\n",
       "      <td>7.7</td>\n",
       "      <td>-73.987130</td>\n",
       "      <td>40.733143</td>\n",
       "      <td>-73.991567</td>\n",
       "      <td>40.758092</td>\n",
       "      <td>1</td>\n",
       "      <td>4</td>\n",
       "      <td>5</td>\n",
       "      <td>4</td>\n",
       "      <td>2012</td>\n",
       "      <td>Night</td>\n",
       "    </tr>\n",
       "    <tr>\n",
       "      <th>4</th>\n",
       "      <td>2010-03-09 07:51:00.000000135</td>\n",
       "      <td>5.3</td>\n",
       "      <td>-73.968095</td>\n",
       "      <td>40.768008</td>\n",
       "      <td>-73.956655</td>\n",
       "      <td>40.783762</td>\n",
       "      <td>1</td>\n",
       "      <td>7</td>\n",
       "      <td>1</td>\n",
       "      <td>3</td>\n",
       "      <td>2010</td>\n",
       "      <td>Morning</td>\n",
       "    </tr>\n",
       "  </tbody>\n",
       "</table>\n",
       "</div>"
      ],
      "text/plain": [
       "                            key  fare_amount  pickup_longitude  \\\n",
       "0 2009-06-15 17:26:21.000000100          4.5        -73.844311   \n",
       "1 2010-01-05 16:52:16.000000200         16.9        -74.016048   \n",
       "2 2011-08-18 00:35:00.000000490          5.7        -73.982738   \n",
       "3 2012-04-21 04:30:42.000000100          7.7        -73.987130   \n",
       "4 2010-03-09 07:51:00.000000135          5.3        -73.968095   \n",
       "\n",
       "   pickup_latitude  dropoff_longitude  dropoff_latitude  passenger_count  \\\n",
       "0        40.721319         -73.841610         40.712278                1   \n",
       "1        40.711303         -73.979268         40.782004                1   \n",
       "2        40.761270         -73.991242         40.750562                2   \n",
       "3        40.733143         -73.991567         40.758092                1   \n",
       "4        40.768008         -73.956655         40.783762                1   \n",
       "\n",
       "   hour  day_of_week  month  year time_of_day  \n",
       "0    17            0      6  2009     Evening  \n",
       "1    16            1      1  2010   Afternoon  \n",
       "2     0            3      8  2011       Night  \n",
       "3     4            5      4  2012       Night  \n",
       "4     7            1      3  2010     Morning  "
      ]
     },
     "execution_count": 17,
     "metadata": {},
     "output_type": "execute_result"
    }
   ],
   "source": [
    "data.head()"
   ]
  },
  {
   "cell_type": "code",
   "execution_count": 18,
   "id": "02ce9e1f-8442-400a-8b1e-5cdf34a4fd8f",
   "metadata": {},
   "outputs": [
    {
     "name": "stdout",
     "output_type": "stream",
     "text": [
      "<class 'pandas.core.frame.DataFrame'>\n",
      "RangeIndex: 100000 entries, 0 to 99999\n",
      "Data columns (total 12 columns):\n",
      " #   Column             Non-Null Count   Dtype         \n",
      "---  ------             --------------   -----         \n",
      " 0   key                100000 non-null  datetime64[ns]\n",
      " 1   fare_amount        100000 non-null  float64       \n",
      " 2   pickup_longitude   100000 non-null  float64       \n",
      " 3   pickup_latitude    100000 non-null  float64       \n",
      " 4   dropoff_longitude  100000 non-null  float64       \n",
      " 5   dropoff_latitude   100000 non-null  float64       \n",
      " 6   passenger_count    100000 non-null  int64         \n",
      " 7   hour               100000 non-null  int32         \n",
      " 8   day_of_week        100000 non-null  int32         \n",
      " 9   month              100000 non-null  int32         \n",
      " 10  year               100000 non-null  int32         \n",
      " 11  time_of_day        100000 non-null  object        \n",
      "dtypes: datetime64[ns](1), float64(5), int32(4), int64(1), object(1)\n",
      "memory usage: 7.6+ MB\n"
     ]
    }
   ],
   "source": [
    "data.info()"
   ]
  },
  {
   "cell_type": "code",
   "execution_count": 19,
   "id": "3ec617e7-a037-4407-b09e-d92ca84e8ffe",
   "metadata": {},
   "outputs": [],
   "source": [
    "data['passenger_count'] = data['passenger_count'].astype('int32')"
   ]
  },
  {
   "cell_type": "code",
   "execution_count": 20,
   "id": "9b67919a-84eb-4671-9f89-0e897026d7e0",
   "metadata": {},
   "outputs": [
    {
     "name": "stdout",
     "output_type": "stream",
     "text": [
      "<class 'pandas.core.frame.DataFrame'>\n",
      "RangeIndex: 100000 entries, 0 to 99999\n",
      "Data columns (total 12 columns):\n",
      " #   Column             Non-Null Count   Dtype         \n",
      "---  ------             --------------   -----         \n",
      " 0   key                100000 non-null  datetime64[ns]\n",
      " 1   fare_amount        100000 non-null  float64       \n",
      " 2   pickup_longitude   100000 non-null  float64       \n",
      " 3   pickup_latitude    100000 non-null  float64       \n",
      " 4   dropoff_longitude  100000 non-null  float64       \n",
      " 5   dropoff_latitude   100000 non-null  float64       \n",
      " 6   passenger_count    100000 non-null  int32         \n",
      " 7   hour               100000 non-null  int32         \n",
      " 8   day_of_week        100000 non-null  int32         \n",
      " 9   month              100000 non-null  int32         \n",
      " 10  year               100000 non-null  int32         \n",
      " 11  time_of_day        100000 non-null  object        \n",
      "dtypes: datetime64[ns](1), float64(5), int32(5), object(1)\n",
      "memory usage: 7.2+ MB\n"
     ]
    }
   ],
   "source": [
    "data.info()"
   ]
  },
  {
   "cell_type": "code",
   "execution_count": 21,
   "id": "587c50b4-bd02-494c-8426-a87c2767a5d6",
   "metadata": {},
   "outputs": [
    {
     "data": {
      "text/html": [
       "<div>\n",
       "<style scoped>\n",
       "    .dataframe tbody tr th:only-of-type {\n",
       "        vertical-align: middle;\n",
       "    }\n",
       "\n",
       "    .dataframe tbody tr th {\n",
       "        vertical-align: top;\n",
       "    }\n",
       "\n",
       "    .dataframe thead th {\n",
       "        text-align: right;\n",
       "    }\n",
       "</style>\n",
       "<table border=\"1\" class=\"dataframe\">\n",
       "  <thead>\n",
       "    <tr style=\"text-align: right;\">\n",
       "      <th></th>\n",
       "      <th>key</th>\n",
       "      <th>fare_amount</th>\n",
       "      <th>pickup_longitude</th>\n",
       "      <th>pickup_latitude</th>\n",
       "      <th>dropoff_longitude</th>\n",
       "      <th>dropoff_latitude</th>\n",
       "      <th>passenger_count</th>\n",
       "      <th>hour</th>\n",
       "      <th>day_of_week</th>\n",
       "      <th>month</th>\n",
       "      <th>year</th>\n",
       "      <th>time_of_day</th>\n",
       "    </tr>\n",
       "  </thead>\n",
       "  <tbody>\n",
       "    <tr>\n",
       "      <th>0</th>\n",
       "      <td>2009-06-15 17:26:21.000000100</td>\n",
       "      <td>4.5</td>\n",
       "      <td>-73.844311</td>\n",
       "      <td>40.721319</td>\n",
       "      <td>-73.841610</td>\n",
       "      <td>40.712278</td>\n",
       "      <td>1</td>\n",
       "      <td>17</td>\n",
       "      <td>0</td>\n",
       "      <td>6</td>\n",
       "      <td>2009</td>\n",
       "      <td>Evening</td>\n",
       "    </tr>\n",
       "    <tr>\n",
       "      <th>1</th>\n",
       "      <td>2010-01-05 16:52:16.000000200</td>\n",
       "      <td>16.9</td>\n",
       "      <td>-74.016048</td>\n",
       "      <td>40.711303</td>\n",
       "      <td>-73.979268</td>\n",
       "      <td>40.782004</td>\n",
       "      <td>1</td>\n",
       "      <td>16</td>\n",
       "      <td>1</td>\n",
       "      <td>1</td>\n",
       "      <td>2010</td>\n",
       "      <td>Afternoon</td>\n",
       "    </tr>\n",
       "    <tr>\n",
       "      <th>2</th>\n",
       "      <td>2011-08-18 00:35:00.000000490</td>\n",
       "      <td>5.7</td>\n",
       "      <td>-73.982738</td>\n",
       "      <td>40.761270</td>\n",
       "      <td>-73.991242</td>\n",
       "      <td>40.750562</td>\n",
       "      <td>2</td>\n",
       "      <td>0</td>\n",
       "      <td>3</td>\n",
       "      <td>8</td>\n",
       "      <td>2011</td>\n",
       "      <td>Night</td>\n",
       "    </tr>\n",
       "    <tr>\n",
       "      <th>3</th>\n",
       "      <td>2012-04-21 04:30:42.000000100</td>\n",
       "      <td>7.7</td>\n",
       "      <td>-73.987130</td>\n",
       "      <td>40.733143</td>\n",
       "      <td>-73.991567</td>\n",
       "      <td>40.758092</td>\n",
       "      <td>1</td>\n",
       "      <td>4</td>\n",
       "      <td>5</td>\n",
       "      <td>4</td>\n",
       "      <td>2012</td>\n",
       "      <td>Night</td>\n",
       "    </tr>\n",
       "    <tr>\n",
       "      <th>4</th>\n",
       "      <td>2010-03-09 07:51:00.000000135</td>\n",
       "      <td>5.3</td>\n",
       "      <td>-73.968095</td>\n",
       "      <td>40.768008</td>\n",
       "      <td>-73.956655</td>\n",
       "      <td>40.783762</td>\n",
       "      <td>1</td>\n",
       "      <td>7</td>\n",
       "      <td>1</td>\n",
       "      <td>3</td>\n",
       "      <td>2010</td>\n",
       "      <td>Morning</td>\n",
       "    </tr>\n",
       "  </tbody>\n",
       "</table>\n",
       "</div>"
      ],
      "text/plain": [
       "                            key  fare_amount  pickup_longitude  \\\n",
       "0 2009-06-15 17:26:21.000000100          4.5        -73.844311   \n",
       "1 2010-01-05 16:52:16.000000200         16.9        -74.016048   \n",
       "2 2011-08-18 00:35:00.000000490          5.7        -73.982738   \n",
       "3 2012-04-21 04:30:42.000000100          7.7        -73.987130   \n",
       "4 2010-03-09 07:51:00.000000135          5.3        -73.968095   \n",
       "\n",
       "   pickup_latitude  dropoff_longitude  dropoff_latitude  passenger_count  \\\n",
       "0        40.721319         -73.841610         40.712278                1   \n",
       "1        40.711303         -73.979268         40.782004                1   \n",
       "2        40.761270         -73.991242         40.750562                2   \n",
       "3        40.733143         -73.991567         40.758092                1   \n",
       "4        40.768008         -73.956655         40.783762                1   \n",
       "\n",
       "   hour  day_of_week  month  year time_of_day  \n",
       "0    17            0      6  2009     Evening  \n",
       "1    16            1      1  2010   Afternoon  \n",
       "2     0            3      8  2011       Night  \n",
       "3     4            5      4  2012       Night  \n",
       "4     7            1      3  2010     Morning  "
      ]
     },
     "execution_count": 21,
     "metadata": {},
     "output_type": "execute_result"
    }
   ],
   "source": [
    "data.head()"
   ]
  },
  {
   "cell_type": "code",
   "execution_count": 22,
   "id": "68c42021-5f9a-49ec-a28b-8e9b39645e21",
   "metadata": {},
   "outputs": [
    {
     "name": "stdout",
     "output_type": "stream",
     "text": [
      "<class 'pandas.core.frame.DataFrame'>\n",
      "RangeIndex: 100000 entries, 0 to 99999\n",
      "Data columns (total 12 columns):\n",
      " #   Column             Non-Null Count   Dtype         \n",
      "---  ------             --------------   -----         \n",
      " 0   key                100000 non-null  datetime64[ns]\n",
      " 1   fare_amount        100000 non-null  float64       \n",
      " 2   pickup_longitude   100000 non-null  float64       \n",
      " 3   pickup_latitude    100000 non-null  float64       \n",
      " 4   dropoff_longitude  100000 non-null  float64       \n",
      " 5   dropoff_latitude   100000 non-null  float64       \n",
      " 6   passenger_count    100000 non-null  int32         \n",
      " 7   hour               100000 non-null  int32         \n",
      " 8   day_of_week        100000 non-null  int32         \n",
      " 9   month              100000 non-null  int32         \n",
      " 10  year               100000 non-null  int32         \n",
      " 11  time_of_day        100000 non-null  object        \n",
      "dtypes: datetime64[ns](1), float64(5), int32(5), object(1)\n",
      "memory usage: 7.2+ MB\n"
     ]
    }
   ],
   "source": [
    "data.info()"
   ]
  },
  {
   "cell_type": "code",
   "execution_count": 23,
   "id": "ea331727-b5d8-4802-8548-ed8630f14a45",
   "metadata": {},
   "outputs": [],
   "source": [
    "data = data[data['passenger_count'] != 0]"
   ]
  },
  {
   "cell_type": "code",
   "execution_count": 24,
   "id": "235e6722-debb-4058-8503-483a5f5c31b0",
   "metadata": {},
   "outputs": [],
   "source": [
    "datos_pasajeros_cero = data[data['passenger_count'] == 0]"
   ]
  },
  {
   "cell_type": "code",
   "execution_count": 25,
   "id": "12dae360-f37d-477b-be28-00b1c7b5f2a7",
   "metadata": {},
   "outputs": [
    {
     "data": {
      "text/html": [
       "<div>\n",
       "<style scoped>\n",
       "    .dataframe tbody tr th:only-of-type {\n",
       "        vertical-align: middle;\n",
       "    }\n",
       "\n",
       "    .dataframe tbody tr th {\n",
       "        vertical-align: top;\n",
       "    }\n",
       "\n",
       "    .dataframe thead th {\n",
       "        text-align: right;\n",
       "    }\n",
       "</style>\n",
       "<table border=\"1\" class=\"dataframe\">\n",
       "  <thead>\n",
       "    <tr style=\"text-align: right;\">\n",
       "      <th></th>\n",
       "      <th>key</th>\n",
       "      <th>fare_amount</th>\n",
       "      <th>pickup_longitude</th>\n",
       "      <th>pickup_latitude</th>\n",
       "      <th>dropoff_longitude</th>\n",
       "      <th>dropoff_latitude</th>\n",
       "      <th>passenger_count</th>\n",
       "      <th>hour</th>\n",
       "      <th>day_of_week</th>\n",
       "      <th>month</th>\n",
       "      <th>year</th>\n",
       "      <th>time_of_day</th>\n",
       "    </tr>\n",
       "  </thead>\n",
       "  <tbody>\n",
       "  </tbody>\n",
       "</table>\n",
       "</div>"
      ],
      "text/plain": [
       "Empty DataFrame\n",
       "Columns: [key, fare_amount, pickup_longitude, pickup_latitude, dropoff_longitude, dropoff_latitude, passenger_count, hour, day_of_week, month, year, time_of_day]\n",
       "Index: []"
      ]
     },
     "execution_count": 25,
     "metadata": {},
     "output_type": "execute_result"
    }
   ],
   "source": [
    "datos_pasajeros_cero.head()"
   ]
  },
  {
   "cell_type": "code",
   "execution_count": 26,
   "id": "08ebf150-0f25-4473-b95a-318ecd6a3bf6",
   "metadata": {},
   "outputs": [
    {
     "name": "stdout",
     "output_type": "stream",
     "text": [
      "<class 'pandas.core.frame.DataFrame'>\n",
      "Index: 99634 entries, 0 to 99999\n",
      "Data columns (total 12 columns):\n",
      " #   Column             Non-Null Count  Dtype         \n",
      "---  ------             --------------  -----         \n",
      " 0   key                99634 non-null  datetime64[ns]\n",
      " 1   fare_amount        99634 non-null  float64       \n",
      " 2   pickup_longitude   99634 non-null  float64       \n",
      " 3   pickup_latitude    99634 non-null  float64       \n",
      " 4   dropoff_longitude  99634 non-null  float64       \n",
      " 5   dropoff_latitude   99634 non-null  float64       \n",
      " 6   passenger_count    99634 non-null  int32         \n",
      " 7   hour               99634 non-null  int32         \n",
      " 8   day_of_week        99634 non-null  int32         \n",
      " 9   month              99634 non-null  int32         \n",
      " 10  year               99634 non-null  int32         \n",
      " 11  time_of_day        99634 non-null  object        \n",
      "dtypes: datetime64[ns](1), float64(5), int32(5), object(1)\n",
      "memory usage: 8.0+ MB\n"
     ]
    }
   ],
   "source": [
    "data.info()"
   ]
  },
  {
   "cell_type": "code",
   "execution_count": 27,
   "id": "70d53d92-be3e-49ff-9509-7688bd3157b5",
   "metadata": {},
   "outputs": [],
   "source": [
    "datos_precio_cero = data[data['fare_amount'] == 0]"
   ]
  },
  {
   "cell_type": "code",
   "execution_count": 28,
   "id": "0cfccf1b-19ba-4999-8f1d-578cf5fcaed4",
   "metadata": {},
   "outputs": [
    {
     "data": {
      "text/html": [
       "<div>\n",
       "<style scoped>\n",
       "    .dataframe tbody tr th:only-of-type {\n",
       "        vertical-align: middle;\n",
       "    }\n",
       "\n",
       "    .dataframe tbody tr th {\n",
       "        vertical-align: top;\n",
       "    }\n",
       "\n",
       "    .dataframe thead th {\n",
       "        text-align: right;\n",
       "    }\n",
       "</style>\n",
       "<table border=\"1\" class=\"dataframe\">\n",
       "  <thead>\n",
       "    <tr style=\"text-align: right;\">\n",
       "      <th></th>\n",
       "      <th>key</th>\n",
       "      <th>fare_amount</th>\n",
       "      <th>pickup_longitude</th>\n",
       "      <th>pickup_latitude</th>\n",
       "      <th>dropoff_longitude</th>\n",
       "      <th>dropoff_latitude</th>\n",
       "      <th>passenger_count</th>\n",
       "      <th>hour</th>\n",
       "      <th>day_of_week</th>\n",
       "      <th>month</th>\n",
       "      <th>year</th>\n",
       "      <th>time_of_day</th>\n",
       "    </tr>\n",
       "  </thead>\n",
       "  <tbody>\n",
       "    <tr>\n",
       "      <th>10002</th>\n",
       "      <td>2010-02-15 14:26:01.000000300</td>\n",
       "      <td>0.0</td>\n",
       "      <td>-73.987115</td>\n",
       "      <td>40.738808</td>\n",
       "      <td>-74.005911</td>\n",
       "      <td>40.713960</td>\n",
       "      <td>1</td>\n",
       "      <td>14</td>\n",
       "      <td>0</td>\n",
       "      <td>2</td>\n",
       "      <td>2010</td>\n",
       "      <td>Afternoon</td>\n",
       "    </tr>\n",
       "    <tr>\n",
       "      <th>27891</th>\n",
       "      <td>2015-05-15 21:40:28.000000100</td>\n",
       "      <td>0.0</td>\n",
       "      <td>-74.077927</td>\n",
       "      <td>40.805714</td>\n",
       "      <td>-74.077919</td>\n",
       "      <td>40.805721</td>\n",
       "      <td>1</td>\n",
       "      <td>21</td>\n",
       "      <td>4</td>\n",
       "      <td>5</td>\n",
       "      <td>2015</td>\n",
       "      <td>Night</td>\n",
       "    </tr>\n",
       "    <tr>\n",
       "      <th>47302</th>\n",
       "      <td>2010-03-18 19:13:39.000000200</td>\n",
       "      <td>0.0</td>\n",
       "      <td>-73.942346</td>\n",
       "      <td>40.806269</td>\n",
       "      <td>-73.942463</td>\n",
       "      <td>40.806129</td>\n",
       "      <td>1</td>\n",
       "      <td>19</td>\n",
       "      <td>3</td>\n",
       "      <td>3</td>\n",
       "      <td>2010</td>\n",
       "      <td>Evening</td>\n",
       "    </tr>\n",
       "  </tbody>\n",
       "</table>\n",
       "</div>"
      ],
      "text/plain": [
       "                                key  fare_amount  pickup_longitude  \\\n",
       "10002 2010-02-15 14:26:01.000000300          0.0        -73.987115   \n",
       "27891 2015-05-15 21:40:28.000000100          0.0        -74.077927   \n",
       "47302 2010-03-18 19:13:39.000000200          0.0        -73.942346   \n",
       "\n",
       "       pickup_latitude  dropoff_longitude  dropoff_latitude  passenger_count  \\\n",
       "10002        40.738808         -74.005911         40.713960                1   \n",
       "27891        40.805714         -74.077919         40.805721                1   \n",
       "47302        40.806269         -73.942463         40.806129                1   \n",
       "\n",
       "       hour  day_of_week  month  year time_of_day  \n",
       "10002    14            0      2  2010   Afternoon  \n",
       "27891    21            4      5  2015       Night  \n",
       "47302    19            3      3  2010     Evening  "
      ]
     },
     "execution_count": 28,
     "metadata": {},
     "output_type": "execute_result"
    }
   ],
   "source": [
    "datos_precio_cero.head()"
   ]
  },
  {
   "cell_type": "code",
   "execution_count": 29,
   "id": "0bd9e923-3219-4243-b8b5-acc5e2fea58a",
   "metadata": {},
   "outputs": [],
   "source": [
    "data = data[data['fare_amount'] != 0]"
   ]
  },
  {
   "cell_type": "code",
   "execution_count": 30,
   "id": "15acd15a-348c-4c54-9f23-9fec80674e94",
   "metadata": {},
   "outputs": [
    {
     "name": "stdout",
     "output_type": "stream",
     "text": [
      "<class 'pandas.core.frame.DataFrame'>\n",
      "Index: 99631 entries, 0 to 99999\n",
      "Data columns (total 12 columns):\n",
      " #   Column             Non-Null Count  Dtype         \n",
      "---  ------             --------------  -----         \n",
      " 0   key                99631 non-null  datetime64[ns]\n",
      " 1   fare_amount        99631 non-null  float64       \n",
      " 2   pickup_longitude   99631 non-null  float64       \n",
      " 3   pickup_latitude    99631 non-null  float64       \n",
      " 4   dropoff_longitude  99631 non-null  float64       \n",
      " 5   dropoff_latitude   99631 non-null  float64       \n",
      " 6   passenger_count    99631 non-null  int32         \n",
      " 7   hour               99631 non-null  int32         \n",
      " 8   day_of_week        99631 non-null  int32         \n",
      " 9   month              99631 non-null  int32         \n",
      " 10  year               99631 non-null  int32         \n",
      " 11  time_of_day        99631 non-null  object        \n",
      "dtypes: datetime64[ns](1), float64(5), int32(5), object(1)\n",
      "memory usage: 8.0+ MB\n"
     ]
    }
   ],
   "source": [
    "data.info()"
   ]
  },
  {
   "cell_type": "code",
   "execution_count": 31,
   "id": "f145d054-3fd0-405a-be92-9db7b2eb18e7",
   "metadata": {},
   "outputs": [],
   "source": [
    "datos_precio_menos = data[data['fare_amount'] <= 0]"
   ]
  },
  {
   "cell_type": "code",
   "execution_count": 32,
   "id": "14203e02-55da-4f36-aa83-a9bb8e033eeb",
   "metadata": {},
   "outputs": [
    {
     "data": {
      "text/html": [
       "<div>\n",
       "<style scoped>\n",
       "    .dataframe tbody tr th:only-of-type {\n",
       "        vertical-align: middle;\n",
       "    }\n",
       "\n",
       "    .dataframe tbody tr th {\n",
       "        vertical-align: top;\n",
       "    }\n",
       "\n",
       "    .dataframe thead th {\n",
       "        text-align: right;\n",
       "    }\n",
       "</style>\n",
       "<table border=\"1\" class=\"dataframe\">\n",
       "  <thead>\n",
       "    <tr style=\"text-align: right;\">\n",
       "      <th></th>\n",
       "      <th>key</th>\n",
       "      <th>fare_amount</th>\n",
       "      <th>pickup_longitude</th>\n",
       "      <th>pickup_latitude</th>\n",
       "      <th>dropoff_longitude</th>\n",
       "      <th>dropoff_latitude</th>\n",
       "      <th>passenger_count</th>\n",
       "      <th>hour</th>\n",
       "      <th>day_of_week</th>\n",
       "      <th>month</th>\n",
       "      <th>year</th>\n",
       "      <th>time_of_day</th>\n",
       "    </tr>\n",
       "  </thead>\n",
       "  <tbody>\n",
       "    <tr>\n",
       "      <th>2039</th>\n",
       "      <td>2010-03-09 23:37:10.000000500</td>\n",
       "      <td>-2.9</td>\n",
       "      <td>-73.789450</td>\n",
       "      <td>40.643498</td>\n",
       "      <td>-73.788665</td>\n",
       "      <td>40.641952</td>\n",
       "      <td>1</td>\n",
       "      <td>23</td>\n",
       "      <td>1</td>\n",
       "      <td>3</td>\n",
       "      <td>2010</td>\n",
       "      <td>Night</td>\n",
       "    </tr>\n",
       "    <tr>\n",
       "      <th>2486</th>\n",
       "      <td>2015-03-22 05:14:27.000000100</td>\n",
       "      <td>-2.5</td>\n",
       "      <td>-74.000031</td>\n",
       "      <td>40.720631</td>\n",
       "      <td>-73.999809</td>\n",
       "      <td>40.720539</td>\n",
       "      <td>1</td>\n",
       "      <td>5</td>\n",
       "      <td>6</td>\n",
       "      <td>3</td>\n",
       "      <td>2015</td>\n",
       "      <td>Morning</td>\n",
       "    </tr>\n",
       "    <tr>\n",
       "      <th>13032</th>\n",
       "      <td>2013-08-30 08:57:10.000000200</td>\n",
       "      <td>-3.0</td>\n",
       "      <td>-73.995062</td>\n",
       "      <td>40.740755</td>\n",
       "      <td>-73.995885</td>\n",
       "      <td>40.741357</td>\n",
       "      <td>4</td>\n",
       "      <td>8</td>\n",
       "      <td>4</td>\n",
       "      <td>8</td>\n",
       "      <td>2013</td>\n",
       "      <td>Morning</td>\n",
       "    </tr>\n",
       "    <tr>\n",
       "      <th>28839</th>\n",
       "      <td>2013-08-11 13:39:10.000000100</td>\n",
       "      <td>-2.5</td>\n",
       "      <td>-73.785260</td>\n",
       "      <td>40.648442</td>\n",
       "      <td>0.000000</td>\n",
       "      <td>0.000000</td>\n",
       "      <td>1</td>\n",
       "      <td>13</td>\n",
       "      <td>6</td>\n",
       "      <td>8</td>\n",
       "      <td>2013</td>\n",
       "      <td>Afternoon</td>\n",
       "    </tr>\n",
       "    <tr>\n",
       "      <th>36722</th>\n",
       "      <td>2015-04-30 15:19:45.000000300</td>\n",
       "      <td>-2.5</td>\n",
       "      <td>-73.952187</td>\n",
       "      <td>40.790112</td>\n",
       "      <td>-73.950043</td>\n",
       "      <td>40.792839</td>\n",
       "      <td>1</td>\n",
       "      <td>15</td>\n",
       "      <td>3</td>\n",
       "      <td>4</td>\n",
       "      <td>2015</td>\n",
       "      <td>Afternoon</td>\n",
       "    </tr>\n",
       "  </tbody>\n",
       "</table>\n",
       "</div>"
      ],
      "text/plain": [
       "                                key  fare_amount  pickup_longitude  \\\n",
       "2039  2010-03-09 23:37:10.000000500         -2.9        -73.789450   \n",
       "2486  2015-03-22 05:14:27.000000100         -2.5        -74.000031   \n",
       "13032 2013-08-30 08:57:10.000000200         -3.0        -73.995062   \n",
       "28839 2013-08-11 13:39:10.000000100         -2.5        -73.785260   \n",
       "36722 2015-04-30 15:19:45.000000300         -2.5        -73.952187   \n",
       "\n",
       "       pickup_latitude  dropoff_longitude  dropoff_latitude  passenger_count  \\\n",
       "2039         40.643498         -73.788665         40.641952                1   \n",
       "2486         40.720631         -73.999809         40.720539                1   \n",
       "13032        40.740755         -73.995885         40.741357                4   \n",
       "28839        40.648442           0.000000          0.000000                1   \n",
       "36722        40.790112         -73.950043         40.792839                1   \n",
       "\n",
       "       hour  day_of_week  month  year time_of_day  \n",
       "2039     23            1      3  2010       Night  \n",
       "2486      5            6      3  2015     Morning  \n",
       "13032     8            4      8  2013     Morning  \n",
       "28839    13            6      8  2013   Afternoon  \n",
       "36722    15            3      4  2015   Afternoon  "
      ]
     },
     "execution_count": 32,
     "metadata": {},
     "output_type": "execute_result"
    }
   ],
   "source": [
    "datos_precio_menos.head()"
   ]
  },
  {
   "cell_type": "code",
   "execution_count": 33,
   "id": "b416441d-de22-47c4-b2fa-ec293982ce67",
   "metadata": {},
   "outputs": [],
   "source": [
    "data = data[data['fare_amount'] >= 0]"
   ]
  },
  {
   "cell_type": "code",
   "execution_count": 34,
   "id": "b1410a04-b15e-439d-aff2-4fa9f8a69118",
   "metadata": {},
   "outputs": [
    {
     "name": "stdout",
     "output_type": "stream",
     "text": [
      "<class 'pandas.core.frame.DataFrame'>\n",
      "Index: 99622 entries, 0 to 99999\n",
      "Data columns (total 12 columns):\n",
      " #   Column             Non-Null Count  Dtype         \n",
      "---  ------             --------------  -----         \n",
      " 0   key                99622 non-null  datetime64[ns]\n",
      " 1   fare_amount        99622 non-null  float64       \n",
      " 2   pickup_longitude   99622 non-null  float64       \n",
      " 3   pickup_latitude    99622 non-null  float64       \n",
      " 4   dropoff_longitude  99622 non-null  float64       \n",
      " 5   dropoff_latitude   99622 non-null  float64       \n",
      " 6   passenger_count    99622 non-null  int32         \n",
      " 7   hour               99622 non-null  int32         \n",
      " 8   day_of_week        99622 non-null  int32         \n",
      " 9   month              99622 non-null  int32         \n",
      " 10  year               99622 non-null  int32         \n",
      " 11  time_of_day        99622 non-null  object        \n",
      "dtypes: datetime64[ns](1), float64(5), int32(5), object(1)\n",
      "memory usage: 8.0+ MB\n"
     ]
    }
   ],
   "source": [
    "data.info()"
   ]
  },
  {
   "cell_type": "code",
   "execution_count": 35,
   "id": "1072c422-5113-49e3-88f1-568b76d6396e",
   "metadata": {},
   "outputs": [],
   "source": [
    "valores_cero = data[(data['pickup_longitude'] == 0) | (data['pickup_latitude'] == 0) | (data['dropoff_longitude'] == 0) | (data['dropoff_latitude'] == 0)]"
   ]
  },
  {
   "cell_type": "code",
   "execution_count": 36,
   "id": "d395540a-ec3b-4c62-afe6-1a4c91bec847",
   "metadata": {},
   "outputs": [
    {
     "data": {
      "text/html": [
       "<div>\n",
       "<style scoped>\n",
       "    .dataframe tbody tr th:only-of-type {\n",
       "        vertical-align: middle;\n",
       "    }\n",
       "\n",
       "    .dataframe tbody tr th {\n",
       "        vertical-align: top;\n",
       "    }\n",
       "\n",
       "    .dataframe thead th {\n",
       "        text-align: right;\n",
       "    }\n",
       "</style>\n",
       "<table border=\"1\" class=\"dataframe\">\n",
       "  <thead>\n",
       "    <tr style=\"text-align: right;\">\n",
       "      <th></th>\n",
       "      <th>key</th>\n",
       "      <th>fare_amount</th>\n",
       "      <th>pickup_longitude</th>\n",
       "      <th>pickup_latitude</th>\n",
       "      <th>dropoff_longitude</th>\n",
       "      <th>dropoff_latitude</th>\n",
       "      <th>passenger_count</th>\n",
       "      <th>hour</th>\n",
       "      <th>day_of_week</th>\n",
       "      <th>month</th>\n",
       "      <th>year</th>\n",
       "      <th>time_of_day</th>\n",
       "    </tr>\n",
       "  </thead>\n",
       "  <tbody>\n",
       "    <tr>\n",
       "      <th>11</th>\n",
       "      <td>2012-12-24 11:24:00.000000980</td>\n",
       "      <td>5.5</td>\n",
       "      <td>0.0</td>\n",
       "      <td>0.0</td>\n",
       "      <td>0.0</td>\n",
       "      <td>0.0</td>\n",
       "      <td>3</td>\n",
       "      <td>11</td>\n",
       "      <td>0</td>\n",
       "      <td>12</td>\n",
       "      <td>2012</td>\n",
       "      <td>Morning</td>\n",
       "    </tr>\n",
       "    <tr>\n",
       "      <th>15</th>\n",
       "      <td>2013-11-23 12:57:00.000000190</td>\n",
       "      <td>5.0</td>\n",
       "      <td>0.0</td>\n",
       "      <td>0.0</td>\n",
       "      <td>0.0</td>\n",
       "      <td>0.0</td>\n",
       "      <td>1</td>\n",
       "      <td>12</td>\n",
       "      <td>5</td>\n",
       "      <td>11</td>\n",
       "      <td>2013</td>\n",
       "      <td>Afternoon</td>\n",
       "    </tr>\n",
       "    <tr>\n",
       "      <th>26</th>\n",
       "      <td>2011-02-07 20:01:00.000000114</td>\n",
       "      <td>6.5</td>\n",
       "      <td>0.0</td>\n",
       "      <td>0.0</td>\n",
       "      <td>0.0</td>\n",
       "      <td>0.0</td>\n",
       "      <td>1</td>\n",
       "      <td>20</td>\n",
       "      <td>0</td>\n",
       "      <td>2</td>\n",
       "      <td>2011</td>\n",
       "      <td>Evening</td>\n",
       "    </tr>\n",
       "    <tr>\n",
       "      <th>124</th>\n",
       "      <td>2013-01-17 17:22:00.000000430</td>\n",
       "      <td>8.0</td>\n",
       "      <td>0.0</td>\n",
       "      <td>0.0</td>\n",
       "      <td>0.0</td>\n",
       "      <td>0.0</td>\n",
       "      <td>2</td>\n",
       "      <td>17</td>\n",
       "      <td>3</td>\n",
       "      <td>1</td>\n",
       "      <td>2013</td>\n",
       "      <td>Evening</td>\n",
       "    </tr>\n",
       "    <tr>\n",
       "      <th>192</th>\n",
       "      <td>2010-09-05 17:08:00.000000920</td>\n",
       "      <td>3.7</td>\n",
       "      <td>0.0</td>\n",
       "      <td>0.0</td>\n",
       "      <td>0.0</td>\n",
       "      <td>0.0</td>\n",
       "      <td>5</td>\n",
       "      <td>17</td>\n",
       "      <td>6</td>\n",
       "      <td>9</td>\n",
       "      <td>2010</td>\n",
       "      <td>Evening</td>\n",
       "    </tr>\n",
       "  </tbody>\n",
       "</table>\n",
       "</div>"
      ],
      "text/plain": [
       "                              key  fare_amount  pickup_longitude  \\\n",
       "11  2012-12-24 11:24:00.000000980          5.5               0.0   \n",
       "15  2013-11-23 12:57:00.000000190          5.0               0.0   \n",
       "26  2011-02-07 20:01:00.000000114          6.5               0.0   \n",
       "124 2013-01-17 17:22:00.000000430          8.0               0.0   \n",
       "192 2010-09-05 17:08:00.000000920          3.7               0.0   \n",
       "\n",
       "     pickup_latitude  dropoff_longitude  dropoff_latitude  passenger_count  \\\n",
       "11               0.0                0.0               0.0                3   \n",
       "15               0.0                0.0               0.0                1   \n",
       "26               0.0                0.0               0.0                1   \n",
       "124              0.0                0.0               0.0                2   \n",
       "192              0.0                0.0               0.0                5   \n",
       "\n",
       "     hour  day_of_week  month  year time_of_day  \n",
       "11     11            0     12  2012     Morning  \n",
       "15     12            5     11  2013   Afternoon  \n",
       "26     20            0      2  2011     Evening  \n",
       "124    17            3      1  2013     Evening  \n",
       "192    17            6      9  2010     Evening  "
      ]
     },
     "execution_count": 36,
     "metadata": {},
     "output_type": "execute_result"
    }
   ],
   "source": [
    "valores_cero.head()"
   ]
  },
  {
   "cell_type": "code",
   "execution_count": 37,
   "id": "4b53750a-3377-4bdb-8c21-d04cfb717ca8",
   "metadata": {},
   "outputs": [],
   "source": [
    "data = data[(data['pickup_longitude'] != 0) & (data['pickup_latitude'] != 0) & (data['dropoff_longitude'] != 0) & (data['dropoff_latitude'] != 0)]\n"
   ]
  },
  {
   "cell_type": "code",
   "execution_count": 38,
   "id": "c37b4196-77ef-43e8-a98d-49f90df466be",
   "metadata": {},
   "outputs": [
    {
     "name": "stdout",
     "output_type": "stream",
     "text": [
      "<class 'pandas.core.frame.DataFrame'>\n",
      "Index: 97625 entries, 0 to 99999\n",
      "Data columns (total 12 columns):\n",
      " #   Column             Non-Null Count  Dtype         \n",
      "---  ------             --------------  -----         \n",
      " 0   key                97625 non-null  datetime64[ns]\n",
      " 1   fare_amount        97625 non-null  float64       \n",
      " 2   pickup_longitude   97625 non-null  float64       \n",
      " 3   pickup_latitude    97625 non-null  float64       \n",
      " 4   dropoff_longitude  97625 non-null  float64       \n",
      " 5   dropoff_latitude   97625 non-null  float64       \n",
      " 6   passenger_count    97625 non-null  int32         \n",
      " 7   hour               97625 non-null  int32         \n",
      " 8   day_of_week        97625 non-null  int32         \n",
      " 9   month              97625 non-null  int32         \n",
      " 10  year               97625 non-null  int32         \n",
      " 11  time_of_day        97625 non-null  object        \n",
      "dtypes: datetime64[ns](1), float64(5), int32(5), object(1)\n",
      "memory usage: 7.8+ MB\n"
     ]
    }
   ],
   "source": [
    "data.info()"
   ]
  },
  {
   "cell_type": "code",
   "execution_count": 39,
   "id": "6cabd6f7-414c-4eba-b5da-070ee1012359",
   "metadata": {},
   "outputs": [
    {
     "name": "stderr",
     "output_type": "stream",
     "text": [
      "/Library/Frameworks/Python.framework/Versions/3.10/lib/python3.10/site-packages/geopy/point.py:472: UserWarning: Latitude normalization has been prohibited in the newer versions of geopy, because the normalized value happened to be on a different pole, which is probably not what was meant. If you pass coordinates as positional args, please make sure that the order is (latitude, longitude) or (y, x) in Cartesian terms.\n",
      "  return cls(*args)\n"
     ]
    }
   ],
   "source": [
    "pickup_coords = data[['pickup_latitude', 'pickup_longitude']]\n",
    "dropoff_coords = data[['dropoff_latitude', 'dropoff_longitude']]\n",
    "\n",
    "distances = []\n",
    "for pickup, dropoff in zip(pickup_coords.values, dropoff_coords.values):\n",
    "    try:\n",
    "        distance = geodesic((pickup[0], pickup[1]), (dropoff[0], dropoff[1])).kilometers\n",
    "        distances.append(distance)\n",
    "    except ValueError:\n",
    "        distances.append(None)\n",
    "\n",
    "data['distance_km'] = distances"
   ]
  },
  {
   "cell_type": "code",
   "execution_count": 40,
   "id": "3a2d55a5-516f-4f1f-a6d8-c4ba4e8544b2",
   "metadata": {},
   "outputs": [
    {
     "data": {
      "text/html": [
       "<div>\n",
       "<style scoped>\n",
       "    .dataframe tbody tr th:only-of-type {\n",
       "        vertical-align: middle;\n",
       "    }\n",
       "\n",
       "    .dataframe tbody tr th {\n",
       "        vertical-align: top;\n",
       "    }\n",
       "\n",
       "    .dataframe thead th {\n",
       "        text-align: right;\n",
       "    }\n",
       "</style>\n",
       "<table border=\"1\" class=\"dataframe\">\n",
       "  <thead>\n",
       "    <tr style=\"text-align: right;\">\n",
       "      <th></th>\n",
       "      <th>key</th>\n",
       "      <th>fare_amount</th>\n",
       "      <th>pickup_longitude</th>\n",
       "      <th>pickup_latitude</th>\n",
       "      <th>dropoff_longitude</th>\n",
       "      <th>dropoff_latitude</th>\n",
       "      <th>passenger_count</th>\n",
       "      <th>hour</th>\n",
       "      <th>day_of_week</th>\n",
       "      <th>month</th>\n",
       "      <th>year</th>\n",
       "      <th>time_of_day</th>\n",
       "      <th>distance_km</th>\n",
       "    </tr>\n",
       "  </thead>\n",
       "  <tbody>\n",
       "    <tr>\n",
       "      <th>0</th>\n",
       "      <td>2009-06-15 17:26:21.000000100</td>\n",
       "      <td>4.5</td>\n",
       "      <td>-73.844311</td>\n",
       "      <td>40.721319</td>\n",
       "      <td>-73.841610</td>\n",
       "      <td>40.712278</td>\n",
       "      <td>1</td>\n",
       "      <td>17</td>\n",
       "      <td>0</td>\n",
       "      <td>6</td>\n",
       "      <td>2009</td>\n",
       "      <td>Evening</td>\n",
       "      <td>1.029601</td>\n",
       "    </tr>\n",
       "    <tr>\n",
       "      <th>1</th>\n",
       "      <td>2010-01-05 16:52:16.000000200</td>\n",
       "      <td>16.9</td>\n",
       "      <td>-74.016048</td>\n",
       "      <td>40.711303</td>\n",
       "      <td>-73.979268</td>\n",
       "      <td>40.782004</td>\n",
       "      <td>1</td>\n",
       "      <td>16</td>\n",
       "      <td>1</td>\n",
       "      <td>1</td>\n",
       "      <td>2010</td>\n",
       "      <td>Afternoon</td>\n",
       "      <td>8.443441</td>\n",
       "    </tr>\n",
       "    <tr>\n",
       "      <th>2</th>\n",
       "      <td>2011-08-18 00:35:00.000000490</td>\n",
       "      <td>5.7</td>\n",
       "      <td>-73.982738</td>\n",
       "      <td>40.761270</td>\n",
       "      <td>-73.991242</td>\n",
       "      <td>40.750562</td>\n",
       "      <td>2</td>\n",
       "      <td>0</td>\n",
       "      <td>3</td>\n",
       "      <td>8</td>\n",
       "      <td>2011</td>\n",
       "      <td>Night</td>\n",
       "      <td>1.389132</td>\n",
       "    </tr>\n",
       "    <tr>\n",
       "      <th>3</th>\n",
       "      <td>2012-04-21 04:30:42.000000100</td>\n",
       "      <td>7.7</td>\n",
       "      <td>-73.987130</td>\n",
       "      <td>40.733143</td>\n",
       "      <td>-73.991567</td>\n",
       "      <td>40.758092</td>\n",
       "      <td>1</td>\n",
       "      <td>4</td>\n",
       "      <td>5</td>\n",
       "      <td>4</td>\n",
       "      <td>2012</td>\n",
       "      <td>Night</td>\n",
       "      <td>2.795790</td>\n",
       "    </tr>\n",
       "    <tr>\n",
       "      <th>4</th>\n",
       "      <td>2010-03-09 07:51:00.000000135</td>\n",
       "      <td>5.3</td>\n",
       "      <td>-73.968095</td>\n",
       "      <td>40.768008</td>\n",
       "      <td>-73.956655</td>\n",
       "      <td>40.783762</td>\n",
       "      <td>1</td>\n",
       "      <td>7</td>\n",
       "      <td>1</td>\n",
       "      <td>3</td>\n",
       "      <td>2010</td>\n",
       "      <td>Morning</td>\n",
       "      <td>1.998338</td>\n",
       "    </tr>\n",
       "  </tbody>\n",
       "</table>\n",
       "</div>"
      ],
      "text/plain": [
       "                            key  fare_amount  pickup_longitude  \\\n",
       "0 2009-06-15 17:26:21.000000100          4.5        -73.844311   \n",
       "1 2010-01-05 16:52:16.000000200         16.9        -74.016048   \n",
       "2 2011-08-18 00:35:00.000000490          5.7        -73.982738   \n",
       "3 2012-04-21 04:30:42.000000100          7.7        -73.987130   \n",
       "4 2010-03-09 07:51:00.000000135          5.3        -73.968095   \n",
       "\n",
       "   pickup_latitude  dropoff_longitude  dropoff_latitude  passenger_count  \\\n",
       "0        40.721319         -73.841610         40.712278                1   \n",
       "1        40.711303         -73.979268         40.782004                1   \n",
       "2        40.761270         -73.991242         40.750562                2   \n",
       "3        40.733143         -73.991567         40.758092                1   \n",
       "4        40.768008         -73.956655         40.783762                1   \n",
       "\n",
       "   hour  day_of_week  month  year time_of_day  distance_km  \n",
       "0    17            0      6  2009     Evening     1.029601  \n",
       "1    16            1      1  2010   Afternoon     8.443441  \n",
       "2     0            3      8  2011       Night     1.389132  \n",
       "3     4            5      4  2012       Night     2.795790  \n",
       "4     7            1      3  2010     Morning     1.998338  "
      ]
     },
     "execution_count": 40,
     "metadata": {},
     "output_type": "execute_result"
    }
   ],
   "source": [
    "data.head()"
   ]
  },
  {
   "cell_type": "code",
   "execution_count": 41,
   "id": "9326b1e8-95c7-4343-8d87-7d209e571220",
   "metadata": {},
   "outputs": [
    {
     "name": "stdout",
     "output_type": "stream",
     "text": [
      "<class 'pandas.core.frame.DataFrame'>\n",
      "Index: 97625 entries, 0 to 99999\n",
      "Data columns (total 13 columns):\n",
      " #   Column             Non-Null Count  Dtype         \n",
      "---  ------             --------------  -----         \n",
      " 0   key                97625 non-null  datetime64[ns]\n",
      " 1   fare_amount        97625 non-null  float64       \n",
      " 2   pickup_longitude   97625 non-null  float64       \n",
      " 3   pickup_latitude    97625 non-null  float64       \n",
      " 4   dropoff_longitude  97625 non-null  float64       \n",
      " 5   dropoff_latitude   97625 non-null  float64       \n",
      " 6   passenger_count    97625 non-null  int32         \n",
      " 7   hour               97625 non-null  int32         \n",
      " 8   day_of_week        97625 non-null  int32         \n",
      " 9   month              97625 non-null  int32         \n",
      " 10  year               97625 non-null  int32         \n",
      " 11  time_of_day        97625 non-null  object        \n",
      " 12  distance_km        97623 non-null  float64       \n",
      "dtypes: datetime64[ns](1), float64(6), int32(5), object(1)\n",
      "memory usage: 8.6+ MB\n"
     ]
    }
   ],
   "source": [
    "data.info()"
   ]
  },
  {
   "cell_type": "code",
   "execution_count": 42,
   "id": "8e3990a3-9e53-4510-bebe-4ee7a3c475bc",
   "metadata": {},
   "outputs": [],
   "source": [
    "datoskmcero = data[data['distance_km'] == 0]"
   ]
  },
  {
   "cell_type": "code",
   "execution_count": 46,
   "id": "a2e0b1e7-2f41-47de-b1f0-bd305ebc49eb",
   "metadata": {},
   "outputs": [
    {
     "name": "stdout",
     "output_type": "stream",
     "text": [
      "<class 'pandas.core.frame.DataFrame'>\n",
      "Index: 1079 entries, 105 to 99793\n",
      "Data columns (total 13 columns):\n",
      " #   Column             Non-Null Count  Dtype         \n",
      "---  ------             --------------  -----         \n",
      " 0   key                1079 non-null   datetime64[ns]\n",
      " 1   fare_amount        1079 non-null   float64       \n",
      " 2   pickup_longitude   1079 non-null   float64       \n",
      " 3   pickup_latitude    1079 non-null   float64       \n",
      " 4   dropoff_longitude  1079 non-null   float64       \n",
      " 5   dropoff_latitude   1079 non-null   float64       \n",
      " 6   passenger_count    1079 non-null   int32         \n",
      " 7   hour               1079 non-null   int32         \n",
      " 8   day_of_week        1079 non-null   int32         \n",
      " 9   month              1079 non-null   int32         \n",
      " 10  year               1079 non-null   int32         \n",
      " 11  time_of_day        1079 non-null   object        \n",
      " 12  distance_km        1079 non-null   float64       \n",
      "dtypes: datetime64[ns](1), float64(6), int32(5), object(1)\n",
      "memory usage: 96.9+ KB\n",
      "None\n"
     ]
    }
   ],
   "source": [
    "print(datoskmcero.info())"
   ]
  },
  {
   "cell_type": "code",
   "execution_count": 47,
   "id": "4dac3fef-2645-45c0-80d4-9487eef51151",
   "metadata": {},
   "outputs": [],
   "source": [
    "data = data[data['distance_km'] != 0]"
   ]
  },
  {
   "cell_type": "code",
   "execution_count": 48,
   "id": "3f8a3180-3377-48db-b6de-a532b976e56f",
   "metadata": {},
   "outputs": [
    {
     "name": "stdout",
     "output_type": "stream",
     "text": [
      "<class 'pandas.core.frame.DataFrame'>\n",
      "Index: 96546 entries, 0 to 99999\n",
      "Data columns (total 13 columns):\n",
      " #   Column             Non-Null Count  Dtype         \n",
      "---  ------             --------------  -----         \n",
      " 0   key                96546 non-null  datetime64[ns]\n",
      " 1   fare_amount        96546 non-null  float64       \n",
      " 2   pickup_longitude   96546 non-null  float64       \n",
      " 3   pickup_latitude    96546 non-null  float64       \n",
      " 4   dropoff_longitude  96546 non-null  float64       \n",
      " 5   dropoff_latitude   96546 non-null  float64       \n",
      " 6   passenger_count    96546 non-null  int32         \n",
      " 7   hour               96546 non-null  int32         \n",
      " 8   day_of_week        96546 non-null  int32         \n",
      " 9   month              96546 non-null  int32         \n",
      " 10  year               96546 non-null  int32         \n",
      " 11  time_of_day        96546 non-null  object        \n",
      " 12  distance_km        96544 non-null  float64       \n",
      "dtypes: datetime64[ns](1), float64(6), int32(5), object(1)\n",
      "memory usage: 8.5+ MB\n"
     ]
    }
   ],
   "source": [
    "data.info()"
   ]
  },
  {
   "cell_type": "code",
   "execution_count": 50,
   "id": "7c0701b2-c3c1-41e3-b960-c2d171f7bae9",
   "metadata": {},
   "outputs": [
    {
     "name": "stdout",
     "output_type": "stream",
     "text": [
      "count    96544.000000\n",
      "mean         4.160893\n",
      "std         62.685071\n",
      "min          0.000084\n",
      "25%          1.281617\n",
      "50%          2.184853\n",
      "75%          3.963826\n",
      "max       6039.183489\n",
      "Name: distance_km, dtype: float64\n",
      "Valores atípicos:\n",
      "                                key  fare_amount  pickup_longitude  \\\n",
      "1     2010-01-05 16:52:16.000000200        16.90        -74.016048   \n",
      "32    2009-01-09 16:10:00.000000170        31.90        -73.873027   \n",
      "35    2015-01-11 03:15:38.000000100        58.00        -73.983330   \n",
      "54    2013-11-10 01:12:19.000000200        25.50        -73.974497   \n",
      "56    2010-05-31 18:06:00.000000970        34.67        -73.985427   \n",
      "...                             ...          ...               ...   \n",
      "99950 2013-04-27 15:19:33.000000500        31.00        -73.997256   \n",
      "99955 2011-09-01 04:27:14.000000100        16.50        -73.947797   \n",
      "99957 2014-06-03 20:26:00.000000890        33.33        -73.870830   \n",
      "99962 2010-01-13 20:00:00.000000670        27.20        -73.874533   \n",
      "99966 2009-11-28 06:38:22.000000100        29.30        -73.783425   \n",
      "\n",
      "       pickup_latitude  dropoff_longitude  dropoff_latitude  passenger_count  \\\n",
      "1            40.711303         -73.979268         40.782004                1   \n",
      "32           40.773883         -73.984545         40.769545                3   \n",
      "35           40.738720         -73.933197         40.847225                1   \n",
      "54           40.751603         -73.934927         40.851567                4   \n",
      "56           40.758853         -73.872907         40.774497                1   \n",
      "...                ...                ...               ...              ...   \n",
      "99950        40.736832         -73.942839         40.815854                1   \n",
      "99955        40.790167         -73.983599         40.711372                1   \n",
      "99957        40.773702         -73.966402         40.758397                1   \n",
      "99962        40.774068         -73.982160         40.755635                1   \n",
      "99966        40.648626         -73.933094         40.664440                1   \n",
      "\n",
      "       hour  day_of_week  month  year time_of_day  distance_km  \n",
      "1        16            1      1  2010   Afternoon     8.443441  \n",
      "32       16            4      1  2009   Afternoon     9.427201  \n",
      "35        3            6      1  2015       Night    12.770770  \n",
      "54        1            6     11  2013       Night    11.592352  \n",
      "56       18            0      5  2010     Evening     9.657732  \n",
      "...     ...          ...    ...   ...         ...          ...  \n",
      "99950    15            5      4  2013   Afternoon     9.905058  \n",
      "99955     4            3      9  2011       Night     9.257764  \n",
      "99957    20            1      6  2014     Evening     8.246381  \n",
      "99962    20            2      1  2010     Evening     9.315016  \n",
      "99966     6            5     11  2009     Morning    12.778808  \n",
      "\n",
      "[8121 rows x 13 columns]\n"
     ]
    }
   ],
   "source": [
    "print(data['distance_km'].describe())\n",
    "\n",
    "Q1 = data['distance_km'].quantile(0.25)\n",
    "Q3 = data['distance_km'].quantile(0.75)\n",
    "IQR = Q3 - Q1\n",
    "filtro_atipico = (data['distance_km'] < (Q1 - 1.5 * IQR)) | (data['distance_km'] > (Q3 + 1.5 * IQR))\n",
    "valores_atipicos = data[filtro_atipico]\n",
    "print(\"Valores atípicos:\")\n",
    "print(valores_atipicos)"
   ]
  },
  {
   "cell_type": "code",
   "execution_count": 51,
   "id": "d13eefb5-b4ba-4866-8653-05584a320f45",
   "metadata": {},
   "outputs": [
    {
     "data": {
      "image/png": "[encoded data removed]",
      "text/plain": [
       "<Figure size 1200x800 with 2 Axes>"
      ]
     },
     "metadata": {},
     "output_type": "display_data"
    }
   ],
   "source": [
    "numeric_df = data.select_dtypes(include=['number'])\n",
    "\n",
    "plt.figure(figsize=(12, 8))\n",
    "sns.heatmap(numeric_df.corr(), cmap='coolwarm', annot=True, linewidth=0.5)\n",
    "plt.title('Correlation Matrix Heatmap')\n",
    "plt.show()"
   ]
  },
  {
   "cell_type": "code",
   "execution_count": 52,
   "id": "b09a7bef-68e6-4da1-8954-20256449fd9f",
   "metadata": {},
   "outputs": [
    {
     "name": "stdout",
     "output_type": "stream",
     "text": [
      "<class 'pandas.core.frame.DataFrame'>\n",
      "Index: 96546 entries, 0 to 99999\n",
      "Data columns (total 13 columns):\n",
      " #   Column             Non-Null Count  Dtype         \n",
      "---  ------             --------------  -----         \n",
      " 0   key                96546 non-null  datetime64[ns]\n",
      " 1   fare_amount        96546 non-null  float64       \n",
      " 2   pickup_longitude   96546 non-null  float64       \n",
      " 3   pickup_latitude    96546 non-null  float64       \n",
      " 4   dropoff_longitude  96546 non-null  float64       \n",
      " 5   dropoff_latitude   96546 non-null  float64       \n",
      " 6   passenger_count    96546 non-null  int32         \n",
      " 7   hour               96546 non-null  int32         \n",
      " 8   day_of_week        96546 non-null  int32         \n",
      " 9   month              96546 non-null  int32         \n",
      " 10  year               96546 non-null  int32         \n",
      " 11  time_of_day        96546 non-null  object        \n",
      " 12  distance_km        96544 non-null  float64       \n",
      "dtypes: datetime64[ns](1), float64(6), int32(5), object(1)\n",
      "memory usage: 8.5+ MB\n"
     ]
    }
   ],
   "source": [
    "data.info()"
   ]
  },
  {
   "cell_type": "code",
   "execution_count": 53,
   "id": "24b83623-031d-465a-8da3-c4aaa6593d6d",
   "metadata": {},
   "outputs": [],
   "source": [
    "def plot_count_by_category(data, category):\n",
    "    plt.figure(figsize=(12, 6))\n",
    "    sns.barplot(\n",
    "        x=category,\n",
    "        y='count',\n",
    "        data=data.groupby(category).size().reset_index(name='count'),\n",
    "        palette='viridis'\n",
    "    )\n",
    "    plt.xlabel(category.capitalize())\n",
    "    plt.ylabel('Count')\n",
    "    plt.title(f'Count of Trips by {category.capitalize()}')\n",
    "    plt.show()"
   ]
  },
  {
   "cell_type": "code",
   "execution_count": 54,
   "id": "d3b6b01a-5da6-4d9d-9208-15ea43cc7c0d",
   "metadata": {},
   "outputs": [
    {
     "name": "stderr",
     "output_type": "stream",
     "text": [
      "/var/folders/23/w6fr8w891t9_w00rgvh2hc9w0000gn/T/ipykernel_54196/390348525.py:3: FutureWarning: \n",
      "\n",
      "Passing `palette` without assigning `hue` is deprecated and will be removed in v0.14.0. Assign the `x` variable to `hue` and set `legend=False` for the same effect.\n",
      "\n",
      "  sns.barplot(\n"
     ]
    },
    {
     "data": {
      "image/png": "[encoded data removed]",
      "text/plain": [
       "<Figure size 1200x600 with 1 Axes>"
      ]
     },
     "metadata": {},
     "output_type": "display_data"
    }
   ],
   "source": [
    "plot_count_by_category(data, 'hour')"
   ]
  },
  {
   "cell_type": "code",
   "execution_count": 55,
   "id": "a7cb70ea-efd6-425d-8397-d5e8a0b730fe",
   "metadata": {},
   "outputs": [
    {
     "name": "stderr",
     "output_type": "stream",
     "text": [
      "/var/folders/23/w6fr8w891t9_w00rgvh2hc9w0000gn/T/ipykernel_54196/390348525.py:3: FutureWarning: \n",
      "\n",
      "Passing `palette` without assigning `hue` is deprecated and will be removed in v0.14.0. Assign the `x` variable to `hue` and set `legend=False` for the same effect.\n",
      "\n",
      "  sns.barplot(\n"
     ]
    },
    {
     "data": {
      "image/png": "[encoded data removed]",
      "text/plain": [
       "<Figure size 1200x600 with 1 Axes>"
      ]
     },
     "metadata": {},
     "output_type": "display_data"
    }
   ],
   "source": [
    "plot_count_by_category(data, 'time_of_day')"
   ]
  },
  {
   "cell_type": "code",
   "execution_count": 56,
   "id": "aee41d3e-469a-4d18-8abe-01d26a89f961",
   "metadata": {},
   "outputs": [
    {
     "name": "stderr",
     "output_type": "stream",
     "text": [
      "/var/folders/23/w6fr8w891t9_w00rgvh2hc9w0000gn/T/ipykernel_54196/390348525.py:3: FutureWarning: \n",
      "\n",
      "Passing `palette` without assigning `hue` is deprecated and will be removed in v0.14.0. Assign the `x` variable to `hue` and set `legend=False` for the same effect.\n",
      "\n",
      "  sns.barplot(\n"
     ]
    },
    {
     "data": {
      "image/png": "[encoded data removed]",
      "text/plain": [
       "<Figure size 1200x600 with 1 Axes>"
      ]
     },
     "metadata": {},
     "output_type": "display_data"
    }
   ],
   "source": [
    "plot_count_by_category(data, 'day_of_week')"
   ]
  },
  {
   "cell_type": "code",
   "execution_count": 57,
   "id": "47b8fdd9-9995-4f08-9e53-c92c369a4031",
   "metadata": {},
   "outputs": [
    {
     "name": "stderr",
     "output_type": "stream",
     "text": [
      "/var/folders/23/w6fr8w891t9_w00rgvh2hc9w0000gn/T/ipykernel_54196/390348525.py:3: FutureWarning: \n",
      "\n",
      "Passing `palette` without assigning `hue` is deprecated and will be removed in v0.14.0. Assign the `x` variable to `hue` and set `legend=False` for the same effect.\n",
      "\n",
      "  sns.barplot(\n"
     ]
    },
    {
     "data": {
      "image/png": "[encoded data removed]",
      "text/plain": [
       "<Figure size 1200x600 with 1 Axes>"
      ]
     },
     "metadata": {},
     "output_type": "display_data"
    }
   ],
   "source": [
    "plot_count_by_category(data, 'month')"
   ]
  },
  {
   "cell_type": "code",
   "execution_count": 58,
   "id": "015cf8fb-8dd0-4c05-9551-b54b0811b39a",
   "metadata": {},
   "outputs": [
    {
     "name": "stderr",
     "output_type": "stream",
     "text": [
      "/var/folders/23/w6fr8w891t9_w00rgvh2hc9w0000gn/T/ipykernel_54196/390348525.py:3: FutureWarning: \n",
      "\n",
      "Passing `palette` without assigning `hue` is deprecated and will be removed in v0.14.0. Assign the `x` variable to `hue` and set `legend=False` for the same effect.\n",
      "\n",
      "  sns.barplot(\n"
     ]
    },
    {
     "data": {
      "image/png": "[encoded data removed]",
      "text/plain": [
       "<Figure size 1200x600 with 1 Axes>"
      ]
     },
     "metadata": {},
     "output_type": "display_data"
    }
   ],
   "source": [
    "plot_count_by_category(data, 'year')"
   ]
  },
  {
   "cell_type": "code",
   "execution_count": 59,
   "id": "9b9e31f1-52a4-429c-b06e-95566572bc3d",
   "metadata": {},
   "outputs": [
    {
     "name": "stdout",
     "output_type": "stream",
     "text": [
      "2015-06-30 22:54:07.000000500\n"
     ]
    }
   ],
   "source": [
    "fechamax = data['key'].max()\n",
    "print(fechamax)"
   ]
  },
  {
   "cell_type": "code",
   "execution_count": 64,
   "id": "e342d4f2-bc5e-4244-b3ea-929ad99c91c1",
   "metadata": {},
   "outputs": [],
   "source": [
    "def plot_avg_price_by_category(data, category):\n",
    "    plt.figure(figsize=(12, 6))\n",
    "    sns.barplot(\n",
    "        x=category,\n",
    "        y='fare_amount',\n",
    "        data=data.groupby(category)['fare_amount'].mean().reset_index(),\n",
    "        palette='viridis'\n",
    "    )\n",
    "    plt.xlabel(category.capitalize())\n",
    "    plt.ylabel('Precio Promedio')\n",
    "    plt.title(f'Precio Promedio por {category.capitalize()}')\n",
    "    plt.show()"
   ]
  },
  {
   "cell_type": "code",
   "execution_count": 63,
   "id": "b2f80fb4-c020-4f5d-9c1b-355de3f59268",
   "metadata": {},
   "outputs": [
    {
     "name": "stdout",
     "output_type": "stream",
     "text": [
      "<class 'pandas.core.frame.DataFrame'>\n",
      "Index: 96546 entries, 0 to 99999\n",
      "Data columns (total 13 columns):\n",
      " #   Column             Non-Null Count  Dtype         \n",
      "---  ------             --------------  -----         \n",
      " 0   key                96546 non-null  datetime64[ns]\n",
      " 1   fare_amount        96546 non-null  float64       \n",
      " 2   pickup_longitude   96546 non-null  float64       \n",
      " 3   pickup_latitude    96546 non-null  float64       \n",
      " 4   dropoff_longitude  96546 non-null  float64       \n",
      " 5   dropoff_latitude   96546 non-null  float64       \n",
      " 6   passenger_count    96546 non-null  int32         \n",
      " 7   hour               96546 non-null  int32         \n",
      " 8   day_of_week        96546 non-null  int32         \n",
      " 9   month              96546 non-null  int32         \n",
      " 10  year               96546 non-null  int32         \n",
      " 11  time_of_day        96546 non-null  object        \n",
      " 12  distance_km        96544 non-null  float64       \n",
      "dtypes: datetime64[ns](1), float64(6), int32(5), object(1)\n",
      "memory usage: 8.5+ MB\n"
     ]
    }
   ],
   "source": [
    "data.info()"
   ]
  },
  {
   "cell_type": "code",
   "execution_count": 67,
   "id": "e25c0203-598c-4750-925c-5c74713d27c2",
   "metadata": {},
   "outputs": [
    {
     "name": "stderr",
     "output_type": "stream",
     "text": [
      "/var/folders/23/w6fr8w891t9_w00rgvh2hc9w0000gn/T/ipykernel_54196/1768201655.py:3: FutureWarning: \n",
      "\n",
      "Passing `palette` without assigning `hue` is deprecated and will be removed in v0.14.0. Assign the `x` variable to `hue` and set `legend=False` for the same effect.\n",
      "\n",
      "  sns.barplot(\n"
     ]
    },
    {
     "data": {
      "image/png": "[encoded data removed]",
      "text/plain": [
       "<Figure size 1200x600 with 1 Axes>"
      ]
     },
     "metadata": {},
     "output_type": "display_data"
    }
   ],
   "source": [
    "plot_avg_price_by_category(data, 'hour')"
   ]
  },
  {
   "cell_type": "code",
   "execution_count": 68,
   "id": "ebe37298-f808-41f9-bcd5-74ea9e240a56",
   "metadata": {},
   "outputs": [
    {
     "name": "stderr",
     "output_type": "stream",
     "text": [
      "/var/folders/23/w6fr8w891t9_w00rgvh2hc9w0000gn/T/ipykernel_54196/1768201655.py:3: FutureWarning: \n",
      "\n",
      "Passing `palette` without assigning `hue` is deprecated and will be removed in v0.14.0. Assign the `x` variable to `hue` and set `legend=False` for the same effect.\n",
      "\n",
      "  sns.barplot(\n"
     ]
    },
    {
     "data": {
      "image/png": "[encoded data removed]",
      "text/plain": [
       "<Figure size 1200x600 with 1 Axes>"
      ]
     },
     "metadata": {},
     "output_type": "display_data"
    }
   ],
   "source": [
    "plot_avg_price_by_category(data, 'day_of_week')"
   ]
  },
  {
   "cell_type": "code",
   "execution_count": 69,
   "id": "e8f300e1-67f8-4cfa-bbf7-f8543dde3c20",
   "metadata": {},
   "outputs": [
    {
     "name": "stderr",
     "output_type": "stream",
     "text": [
      "/var/folders/23/w6fr8w891t9_w00rgvh2hc9w0000gn/T/ipykernel_54196/1768201655.py:3: FutureWarning: \n",
      "\n",
      "Passing `palette` without assigning `hue` is deprecated and will be removed in v0.14.0. Assign the `x` variable to `hue` and set `legend=False` for the same effect.\n",
      "\n",
      "  sns.barplot(\n"
     ]
    },
    {
     "data": {
      "image/png": "[encoded data removed]",
      "text/plain": [
       "<Figure size 1200x600 with 1 Axes>"
      ]
     },
     "metadata": {},
     "output_type": "display_data"
    }
   ],
   "source": [
    "plot_avg_price_by_category(data, 'month')"
   ]
  },
  {
   "cell_type": "code",
   "execution_count": 70,
   "id": "f6955894-d18d-4cf6-957b-5965516cecb7",
   "metadata": {},
   "outputs": [
    {
     "name": "stderr",
     "output_type": "stream",
     "text": [
      "/var/folders/23/w6fr8w891t9_w00rgvh2hc9w0000gn/T/ipykernel_54196/1768201655.py:3: FutureWarning: \n",
      "\n",
      "Passing `palette` without assigning `hue` is deprecated and will be removed in v0.14.0. Assign the `x` variable to `hue` and set `legend=False` for the same effect.\n",
      "\n",
      "  sns.barplot(\n"
     ]
    },
    {
     "data": {
      "image/png": "[encoded data removed]",
      "text/plain": [
       "<Figure size 1200x600 with 1 Axes>"
      ]
     },
     "metadata": {},
     "output_type": "display_data"
    }
   ],
   "source": [
    "plot_avg_price_by_category(data, 'year')"
   ]
  },
  {
   "cell_type": "code",
   "execution_count": 83,
   "id": "dd4e135c-5bd9-407e-85fa-b778ef514f2e",
   "metadata": {},
   "outputs": [
    {
     "data": {
      "text/html": [
       "<style>#sk-container-id-2 {\n",
       "  /* Definition of color scheme common for light and dark mode */\n",
       "  --sklearn-color-text: black;\n",
       "  --sklearn-color-line: gray;\n",
       "  /* Definition of color scheme for unfitted estimators */\n",
       "  --sklearn-color-unfitted-level-0: #fff5e6;\n",
       "  --sklearn-color-unfitted-level-1: #f6e4d2;\n",
       "  --sklearn-color-unfitted-level-2: #ffe0b3;\n",
       "  --sklearn-color-unfitted-level-3: chocolate;\n",
       "  /* Definition of color scheme for fitted estimators */\n",
       "  --sklearn-color-fitted-level-0: #f0f8ff;\n",
       "  --sklearn-color-fitted-level-1: #d4ebff;\n",
       "  --sklearn-color-fitted-level-2: #b3dbfd;\n",
       "  --sklearn-color-fitted-level-3: cornflowerblue;\n",
       "\n",
       "  /* Specific color for light theme */\n",
       "  --sklearn-color-text-on-default-background: var(--sg-text-color, var(--theme-code-foreground, var(--jp-content-font-color1, black)));\n",
       "  --sklearn-color-background: var(--sg-background-color, var(--theme-background, var(--jp-layout-color0, white)));\n",
       "  --sklearn-color-border-box: var(--sg-text-color, var(--theme-code-foreground, var(--jp-content-font-color1, black)));\n",
       "  --sklearn-color-icon: #696969;\n",
       "\n",
       "  @media (prefers-color-scheme: dark) {\n",
       "    /* Redefinition of color scheme for dark theme */\n",
       "    --sklearn-color-text-on-default-background: var(--sg-text-color, var(--theme-code-foreground, var(--jp-content-font-color1, white)));\n",
       "    --sklearn-color-background: var(--sg-background-color, var(--theme-background, var(--jp-layout-color0, #111)));\n",
       "    --sklearn-color-border-box: var(--sg-text-color, var(--theme-code-foreground, var(--jp-content-font-color1, white)));\n",
       "    --sklearn-color-icon: #878787;\n",
       "  }\n",
       "}\n",
       "\n",
       "#sk-container-id-2 {\n",
       "  color: var(--sklearn-color-text);\n",
       "}\n",
       "\n",
       "#sk-container-id-2 pre {\n",
       "  padding: 0;\n",
       "}\n",
       "\n",
       "#sk-container-id-2 input.sk-hidden--visually {\n",
       "  border: 0;\n",
       "  clip: rect(1px 1px 1px 1px);\n",
       "  clip: rect(1px, 1px, 1px, 1px);\n",
       "  height: 1px;\n",
       "  margin: -1px;\n",
       "  overflow: hidden;\n",
       "  padding: 0;\n",
       "  position: absolute;\n",
       "  width: 1px;\n",
       "}\n",
       "\n",
       "#sk-container-id-2 div.sk-dashed-wrapped {\n",
       "  border: 1px dashed var(--sklearn-color-line);\n",
       "  margin: 0 0.4em 0.5em 0.4em;\n",
       "  box-sizing: border-box;\n",
       "  padding-bottom: 0.4em;\n",
       "  background-color: var(--sklearn-color-background);\n",
       "}\n",
       "\n",
       "#sk-container-id-2 div.sk-container {\n",
       "  /* jupyter's `normalize.less` sets `[hidden] { display: none; }`\n",
       "     but bootstrap.min.css set `[hidden] { display: none !important; }`\n",
       "     so we also need the `!important` here to be able to override the\n",
       "     default hidden behavior on the sphinx rendered scikit-learn.org.\n",
       "     See: https://github.com/scikit-learn/scikit-learn/issues/21755 */\n",
       "  display: inline-block !important;\n",
       "  position: relative;\n",
       "}\n",
       "\n",
       "#sk-container-id-2 div.sk-text-repr-fallback {\n",
       "  display: none;\n",
       "}\n",
       "\n",
       "div.sk-parallel-item,\n",
       "div.sk-serial,\n",
       "div.sk-item {\n",
       "  /* draw centered vertical line to link estimators */\n",
       "  background-image: linear-gradient(var(--sklearn-color-text-on-default-background), var(--sklearn-color-text-on-default-background));\n",
       "  background-size: 2px 100%;\n",
       "  background-repeat: no-repeat;\n",
       "  background-position: center center;\n",
       "}\n",
       "\n",
       "/* Parallel-specific style estimator block */\n",
       "\n",
       "#sk-container-id-2 div.sk-parallel-item::after {\n",
       "  content: \"\";\n",
       "  width: 100%;\n",
       "  border-bottom: 2px solid var(--sklearn-color-text-on-default-background);\n",
       "  flex-grow: 1;\n",
       "}\n",
       "\n",
       "#sk-container-id-2 div.sk-parallel {\n",
       "  display: flex;\n",
       "  align-items: stretch;\n",
       "  justify-content: center;\n",
       "  background-color: var(--sklearn-color-background);\n",
       "  position: relative;\n",
       "}\n",
       "\n",
       "#sk-container-id-2 div.sk-parallel-item {\n",
       "  display: flex;\n",
       "  flex-direction: column;\n",
       "}\n",
       "\n",
       "#sk-container-id-2 div.sk-parallel-item:first-child::after {\n",
       "  align-self: flex-end;\n",
       "  width: 50%;\n",
       "}\n",
       "\n",
       "#sk-container-id-2 div.sk-parallel-item:last-child::after {\n",
       "  align-self: flex-start;\n",
       "  width: 50%;\n",
       "}\n",
       "\n",
       "#sk-container-id-2 div.sk-parallel-item:only-child::after {\n",
       "  width: 0;\n",
       "}\n",
       "\n",
       "/* Serial-specific style estimator block */\n",
       "\n",
       "#sk-container-id-2 div.sk-serial {\n",
       "  display: flex;\n",
       "  flex-direction: column;\n",
       "  align-items: center;\n",
       "  background-color: var(--sklearn-color-background);\n",
       "  padding-right: 1em;\n",
       "  padding-left: 1em;\n",
       "}\n",
       "\n",
       "\n",
       "/* Toggleable style: style used for estimator/Pipeline/ColumnTransformer box that is\n",
       "clickable and can be expanded/collapsed.\n",
       "- Pipeline and ColumnTransformer use this feature and define the default style\n",
       "- Estimators will overwrite some part of the style using the `sk-estimator` class\n",
       "*/\n",
       "\n",
       "/* Pipeline and ColumnTransformer style (default) */\n",
       "\n",
       "#sk-container-id-2 div.sk-toggleable {\n",
       "  /* Default theme specific background. It is overwritten whether we have a\n",
       "  specific estimator or a Pipeline/ColumnTransformer */\n",
       "  background-color: var(--sklearn-color-background);\n",
       "}\n",
       "\n",
       "/* Toggleable label */\n",
       "#sk-container-id-2 label.sk-toggleable__label {\n",
       "  cursor: pointer;\n",
       "  display: block;\n",
       "  width: 100%;\n",
       "  margin-bottom: 0;\n",
       "  padding: 0.5em;\n",
       "  box-sizing: border-box;\n",
       "  text-align: center;\n",
       "}\n",
       "\n",
       "#sk-container-id-2 label.sk-toggleable__label-arrow:before {\n",
       "  /* Arrow on the left of the label */\n",
       "  content: \"▸\";\n",
       "  float: left;\n",
       "  margin-right: 0.25em;\n",
       "  color: var(--sklearn-color-icon);\n",
       "}\n",
       "\n",
       "#sk-container-id-2 label.sk-toggleable__label-arrow:hover:before {\n",
       "  color: var(--sklearn-color-text);\n",
       "}\n",
       "\n",
       "/* Toggleable content - dropdown */\n",
       "\n",
       "#sk-container-id-2 div.sk-toggleable__content {\n",
       "  max-height: 0;\n",
       "  max-width: 0;\n",
       "  overflow: hidden;\n",
       "  text-align: left;\n",
       "  /* unfitted */\n",
       "  background-color: var(--sklearn-color-unfitted-level-0);\n",
       "}\n",
       "\n",
       "#sk-container-id-2 div.sk-toggleable__content.fitted {\n",
       "  /* fitted */\n",
       "  background-color: var(--sklearn-color-fitted-level-0);\n",
       "}\n",
       "\n",
       "#sk-container-id-2 div.sk-toggleable__content pre {\n",
       "  margin: 0.2em;\n",
       "  border-radius: 0.25em;\n",
       "  color: var(--sklearn-color-text);\n",
       "  /* unfitted */\n",
       "  background-color: var(--sklearn-color-unfitted-level-0);\n",
       "}\n",
       "\n",
       "#sk-container-id-2 div.sk-toggleable__content.fitted pre {\n",
       "  /* unfitted */\n",
       "  background-color: var(--sklearn-color-fitted-level-0);\n",
       "}\n",
       "\n",
       "#sk-container-id-2 input.sk-toggleable__control:checked~div.sk-toggleable__content {\n",
       "  /* Expand drop-down */\n",
       "  max-height: 200px;\n",
       "  max-width: 100%;\n",
       "  overflow: auto;\n",
       "}\n",
       "\n",
       "#sk-container-id-2 input.sk-toggleable__control:checked~label.sk-toggleable__label-arrow:before {\n",
       "  content: \"▾\";\n",
       "}\n",
       "\n",
       "/* Pipeline/ColumnTransformer-specific style */\n",
       "\n",
       "#sk-container-id-2 div.sk-label input.sk-toggleable__control:checked~label.sk-toggleable__label {\n",
       "  color: var(--sklearn-color-text);\n",
       "  background-color: var(--sklearn-color-unfitted-level-2);\n",
       "}\n",
       "\n",
       "#sk-container-id-2 div.sk-label.fitted input.sk-toggleable__control:checked~label.sk-toggleable__label {\n",
       "  background-color: var(--sklearn-color-fitted-level-2);\n",
       "}\n",
       "\n",
       "/* Estimator-specific style */\n",
       "\n",
       "/* Colorize estimator box */\n",
       "#sk-container-id-2 div.sk-estimator input.sk-toggleable__control:checked~label.sk-toggleable__label {\n",
       "  /* unfitted */\n",
       "  background-color: var(--sklearn-color-unfitted-level-2);\n",
       "}\n",
       "\n",
       "#sk-container-id-2 div.sk-estimator.fitted input.sk-toggleable__control:checked~label.sk-toggleable__label {\n",
       "  /* fitted */\n",
       "  background-color: var(--sklearn-color-fitted-level-2);\n",
       "}\n",
       "\n",
       "#sk-container-id-2 div.sk-label label.sk-toggleable__label,\n",
       "#sk-container-id-2 div.sk-label label {\n",
       "  /* The background is the default theme color */\n",
       "  color: var(--sklearn-color-text-on-default-background);\n",
       "}\n",
       "\n",
       "/* On hover, darken the color of the background */\n",
       "#sk-container-id-2 div.sk-label:hover label.sk-toggleable__label {\n",
       "  color: var(--sklearn-color-text);\n",
       "  background-color: var(--sklearn-color-unfitted-level-2);\n",
       "}\n",
       "\n",
       "/* Label box, darken color on hover, fitted */\n",
       "#sk-container-id-2 div.sk-label.fitted:hover label.sk-toggleable__label.fitted {\n",
       "  color: var(--sklearn-color-text);\n",
       "  background-color: var(--sklearn-color-fitted-level-2);\n",
       "}\n",
       "\n",
       "/* Estimator label */\n",
       "\n",
       "#sk-container-id-2 div.sk-label label {\n",
       "  font-family: monospace;\n",
       "  font-weight: bold;\n",
       "  display: inline-block;\n",
       "  line-height: 1.2em;\n",
       "}\n",
       "\n",
       "#sk-container-id-2 div.sk-label-container {\n",
       "  text-align: center;\n",
       "}\n",
       "\n",
       "/* Estimator-specific */\n",
       "#sk-container-id-2 div.sk-estimator {\n",
       "  font-family: monospace;\n",
       "  border: 1px dotted var(--sklearn-color-border-box);\n",
       "  border-radius: 0.25em;\n",
       "  box-sizing: border-box;\n",
       "  margin-bottom: 0.5em;\n",
       "  /* unfitted */\n",
       "  background-color: var(--sklearn-color-unfitted-level-0);\n",
       "}\n",
       "\n",
       "#sk-container-id-2 div.sk-estimator.fitted {\n",
       "  /* fitted */\n",
       "  background-color: var(--sklearn-color-fitted-level-0);\n",
       "}\n",
       "\n",
       "/* on hover */\n",
       "#sk-container-id-2 div.sk-estimator:hover {\n",
       "  /* unfitted */\n",
       "  background-color: var(--sklearn-color-unfitted-level-2);\n",
       "}\n",
       "\n",
       "#sk-container-id-2 div.sk-estimator.fitted:hover {\n",
       "  /* fitted */\n",
       "  background-color: var(--sklearn-color-fitted-level-2);\n",
       "}\n",
       "\n",
       "/* Specification for estimator info (e.g. \"i\" and \"?\") */\n",
       "\n",
       "/* Common style for \"i\" and \"?\" */\n",
       "\n",
       ".sk-estimator-doc-link,\n",
       "a:link.sk-estimator-doc-link,\n",
       "a:visited.sk-estimator-doc-link {\n",
       "  float: right;\n",
       "  font-size: smaller;\n",
       "  line-height: 1em;\n",
       "  font-family: monospace;\n",
       "  background-color: var(--sklearn-color-background);\n",
       "  border-radius: 1em;\n",
       "  height: 1em;\n",
       "  width: 1em;\n",
       "  text-decoration: none !important;\n",
       "  margin-left: 1ex;\n",
       "  /* unfitted */\n",
       "  border: var(--sklearn-color-unfitted-level-1) 1pt solid;\n",
       "  color: var(--sklearn-color-unfitted-level-1);\n",
       "}\n",
       "\n",
       ".sk-estimator-doc-link.fitted,\n",
       "a:link.sk-estimator-doc-link.fitted,\n",
       "a:visited.sk-estimator-doc-link.fitted {\n",
       "  /* fitted */\n",
       "  border: var(--sklearn-color-fitted-level-1) 1pt solid;\n",
       "  color: var(--sklearn-color-fitted-level-1);\n",
       "}\n",
       "\n",
       "/* On hover */\n",
       "div.sk-estimator:hover .sk-estimator-doc-link:hover,\n",
       ".sk-estimator-doc-link:hover,\n",
       "div.sk-label-container:hover .sk-estimator-doc-link:hover,\n",
       ".sk-estimator-doc-link:hover {\n",
       "  /* unfitted */\n",
       "  background-color: var(--sklearn-color-unfitted-level-3);\n",
       "  color: var(--sklearn-color-background);\n",
       "  text-decoration: none;\n",
       "}\n",
       "\n",
       "div.sk-estimator.fitted:hover .sk-estimator-doc-link.fitted:hover,\n",
       ".sk-estimator-doc-link.fitted:hover,\n",
       "div.sk-label-container:hover .sk-estimator-doc-link.fitted:hover,\n",
       ".sk-estimator-doc-link.fitted:hover {\n",
       "  /* fitted */\n",
       "  background-color: var(--sklearn-color-fitted-level-3);\n",
       "  color: var(--sklearn-color-background);\n",
       "  text-decoration: none;\n",
       "}\n",
       "\n",
       "/* Span, style for the box shown on hovering the info icon */\n",
       ".sk-estimator-doc-link span {\n",
       "  display: none;\n",
       "  z-index: 9999;\n",
       "  position: relative;\n",
       "  font-weight: normal;\n",
       "  right: .2ex;\n",
       "  padding: .5ex;\n",
       "  margin: .5ex;\n",
       "  width: min-content;\n",
       "  min-width: 20ex;\n",
       "  max-width: 50ex;\n",
       "  color: var(--sklearn-color-text);\n",
       "  box-shadow: 2pt 2pt 4pt #999;\n",
       "  /* unfitted */\n",
       "  background: var(--sklearn-color-unfitted-level-0);\n",
       "  border: .5pt solid var(--sklearn-color-unfitted-level-3);\n",
       "}\n",
       "\n",
       ".sk-estimator-doc-link.fitted span {\n",
       "  /* fitted */\n",
       "  background: var(--sklearn-color-fitted-level-0);\n",
       "  border: var(--sklearn-color-fitted-level-3);\n",
       "}\n",
       "\n",
       ".sk-estimator-doc-link:hover span {\n",
       "  display: block;\n",
       "}\n",
       "\n",
       "/* \"?\"-specific style due to the `<a>` HTML tag */\n",
       "\n",
       "#sk-container-id-2 a.estimator_doc_link {\n",
       "  float: right;\n",
       "  font-size: 1rem;\n",
       "  line-height: 1em;\n",
       "  font-family: monospace;\n",
       "  background-color: var(--sklearn-color-background);\n",
       "  border-radius: 1rem;\n",
       "  height: 1rem;\n",
       "  width: 1rem;\n",
       "  text-decoration: none;\n",
       "  /* unfitted */\n",
       "  color: var(--sklearn-color-unfitted-level-1);\n",
       "  border: var(--sklearn-color-unfitted-level-1) 1pt solid;\n",
       "}\n",
       "\n",
       "#sk-container-id-2 a.estimator_doc_link.fitted {\n",
       "  /* fitted */\n",
       "  border: var(--sklearn-color-fitted-level-1) 1pt solid;\n",
       "  color: var(--sklearn-color-fitted-level-1);\n",
       "}\n",
       "\n",
       "/* On hover */\n",
       "#sk-container-id-2 a.estimator_doc_link:hover {\n",
       "  /* unfitted */\n",
       "  background-color: var(--sklearn-color-unfitted-level-3);\n",
       "  color: var(--sklearn-color-background);\n",
       "  text-decoration: none;\n",
       "}\n",
       "\n",
       "#sk-container-id-2 a.estimator_doc_link.fitted:hover {\n",
       "  /* fitted */\n",
       "  background-color: var(--sklearn-color-fitted-level-3);\n",
       "}\n",
       "</style><div id=\"sk-container-id-2\" class=\"sk-top-container\"><div class=\"sk-text-repr-fallback\"><pre>LinearRegression()</pre><b>In a Jupyter environment, please rerun this cell to show the HTML representation or trust the notebook. <br />On GitHub, the HTML representation is unable to render, please try loading this page with nbviewer.org.</b></div><div class=\"sk-container\" hidden><div class=\"sk-item\"><div class=\"sk-estimator fitted sk-toggleable\"><input class=\"sk-toggleable__control sk-hidden--visually\" id=\"sk-estimator-id-2\" type=\"checkbox\" checked><label for=\"sk-estimator-id-2\" class=\"sk-toggleable__label fitted sk-toggleable__label-arrow fitted\">&nbsp;&nbsp;LinearRegression<a class=\"sk-estimator-doc-link fitted\" rel=\"noreferrer\" target=\"_blank\" href=\"https://scikit-learn.org/1.4/modules/generated/sklearn.linear_model.LinearRegression.html\">?<span>Documentation for LinearRegression</span></a><span class=\"sk-estimator-doc-link fitted\">i<span>Fitted</span></span></label><div class=\"sk-toggleable__content fitted\"><pre>LinearRegression()</pre></div> </div></div></div></div>"
      ],
      "text/plain": [
       "LinearRegression()"
      ]
     },
     "execution_count": 83,
     "metadata": {},
     "output_type": "execute_result"
    }
   ],
   "source": [
    "df_limpiado = data.dropna()\n",
    "\n",
    "X = df_limpiado[['passenger_count', 'hour', 'day_of_week', 'month', 'year', 'distance_km']]\n",
    "y = df_limpiado['fare_amount']\n",
    "\n",
    "modelo.fit(X, y)\n"
   ]
  },
  {
   "cell_type": "code",
   "execution_count": 85,
   "id": "2b511649-1ea8-49e3-ab29-045c3b99200e",
   "metadata": {},
   "outputs": [
    {
     "name": "stdout",
     "output_type": "stream",
     "text": [
      "Predicción de tarifa: 9.405917019823164\n"
     ]
    }
   ],
   "source": [
    "imputer = SimpleImputer(strategy='mean')\n",
    "X_imputado = imputer.fit_transform(X)\n",
    "\n",
    "modelo.fit(X_imputado, y)\n",
    "\n",
    "nueva_instancia = X_imputado[0].reshape(1, -1) \n",
    "prediccion = modelo.predict(nueva_instancia)\n",
    "print('Predicción de tarifa:', prediccion[0])"
   ]
  },
  {
   "cell_type": "code",
   "execution_count": 86,
   "id": "1e10b003-4492-4713-88d5-a53703575692",
   "metadata": {},
   "outputs": [
    {
     "name": "stdout",
     "output_type": "stream",
     "text": [
      "Error cuadrático medio (MSE): 90.40721546082786\n",
      "Error absoluto medio (MAE): 5.922590579934248\n",
      "Coeficiente de determinación (R^2): 0.01885069029958164\n"
     ]
    },
    {
     "name": "stderr",
     "output_type": "stream",
     "text": [
      "/Library/Frameworks/Python.framework/Versions/3.10/lib/python3.10/site-packages/sklearn/base.py:486: UserWarning: X has feature names, but LinearRegression was fitted without feature names\n",
      "  warnings.warn(\n"
     ]
    }
   ],
   "source": [
    "predicciones = modelo.predict(X)\n",
    "\n",
    "mse = mean_squared_error(y, predicciones)\n",
    "mae = mean_absolute_error(y, predicciones)\n",
    "r2 = r2_score(y, predicciones)\n",
    "\n",
    "print('Error cuadrático medio (MSE):', mse)\n",
    "print('Error absoluto medio (MAE):', mae)\n",
    "print('Coeficiente de determinación (R^2):', r2)"
   ]
  },
  {
   "cell_type": "code",
   "execution_count": 87,
   "id": "d13c7eab-e433-4816-859a-1d64d8b3d45f",
   "metadata": {},
   "outputs": [
    {
     "name": "stdout",
     "output_type": "stream",
     "text": [
      "Error cuadrático medio (MSE): 20.736244716072008\n",
      "Error absoluto medio (MAE): 2.11280617373501\n",
      "Coeficiente de determinación (R^2): 0.7670390501035936\n"
     ]
    }
   ],
   "source": [
    "from sklearn.neural_network import MLPRegressor\n",
    "from sklearn.preprocessing import StandardScaler\n",
    "from sklearn.model_selection import train_test_split\n",
    "from sklearn.metrics import mean_squared_error, mean_absolute_error, r2_score\n",
    "\n",
    "X_train, X_test, y_train, y_test = train_test_split(X, y, test_size=0.2, random_state=42)\n",
    "\n",
    "scaler = StandardScaler()\n",
    "X_train_scaled = scaler.fit_transform(X_train)\n",
    "X_test_scaled = scaler.transform(X_test)\n",
    "\n",
    "mlp_regressor = MLPRegressor(hidden_layer_sizes=(100, 50), activation='relu', solver='adam', max_iter=500, random_state=42)\n",
    "\n",
    "mlp_regressor.fit(X_train_scaled, y_train)\n",
    "\n",
    "y_pred = mlp_regressor.predict(X_test_scaled)\n",
    "\n",
    "mse = mean_squared_error(y_test, y_pred)\n",
    "mae = mean_absolute_error(y_test, y_pred)\n",
    "r2 = r2_score(y_test, y_pred)\n",
    "\n",
    "print('Error cuadrático medio (MSE):', mse)\n",
    "print('Error absoluto medio (MAE):', mae)\n",
    "print('Coeficiente de determinación (R^2):', r2)\n"
   ]
  },
  {
   "cell_type": "code",
   "execution_count": null,
   "id": "b7797626-0e3b-4877-9235-d5e144c81384",
   "metadata": {},
   "outputs": [],
   "source": []
  }
 ],
 "metadata": {
  "kernelspec": {
   "display_name": "Python 3 (ipykernel)",
   "language": "python",
   "name": "python3"
  },
  "language_info": {
   "codemirror_mode": {
    "name": "ipython",
    "version": 3
   },
   "file_extension": ".py",
   "mimetype": "text/x-python",
   "name": "python",
   "nbconvert_exporter": "python",
   "pygments_lexer": "ipython3",
   "version": "3.10.7"
  }
 },
 "nbformat": 4,
 "nbformat_minor": 5
}
